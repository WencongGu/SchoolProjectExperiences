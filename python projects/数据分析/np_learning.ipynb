{
 "cells": [
  {
   "cell_type": "markdown",
   "metadata": {},
   "source": [
    "## 科学计算库numpy\n",
    "numpy相对于python，内置了大量函数可以方便地调用，而且在运算速度上也有很大的优化、\n",
    "更多内容去官网查看https://numpy.org ->API Reference"
   ]
  },
  {
   "cell_type": "code",
   "execution_count": 1,
   "metadata": {},
   "outputs": [
    {
     "data": {
      "text/plain": [
       "'1.24.3'"
      ]
     },
     "execution_count": 1,
     "metadata": {},
     "output_type": "execute_result"
    }
   ],
   "source": [
    "import numpy as np\n",
    "np.__version__"
   ]
  },
  {
   "cell_type": "markdown",
   "metadata": {},
   "source": [
    "### 数组，ndarray对象\n",
    "np.array(object,dtype=None,copy=True,order=None,subok=False,ndmin=0)\n",
    "\n",
    "object：数组序列，或可迭代对象\n",
    "\n",
    "dtype：数组元素类型。数组中元素全部为同一种类型，占用内存也相同\n",
    "\n",
    "copy：数组是否允许复制\n",
    "\n",
    "order：？\n",
    "\n",
    "ndmin：指定数组维度\n",
    "\n",
    "subok：是否使用object的元素数据类型，false使用object的类型\n"
   ]
  },
  {
   "cell_type": "code",
   "execution_count": null,
   "metadata": {},
   "outputs": [],
   "source": [
    "a=[[1,1,2],[2,4,3],[2,2,4]]\n",
    "b=[7,2,3]\n",
    "aarr=np.array(a)\n",
    "barr=np.array(b,ndmin=4)\n",
    "aarr.shape"
   ]
  },
  {
   "cell_type": "markdown",
   "metadata": {},
   "source": [
    "#### 参数order"
   ]
  },
  {
   "cell_type": "code",
   "execution_count": 2,
   "metadata": {},
   "outputs": [
    {
     "data": {
      "text/plain": [
       "array([[[ 1,  2],\n",
       "        [ 3,  4],\n",
       "        [ 5,  6]],\n",
       "\n",
       "       [[ 7,  8],\n",
       "        [ 9, 10],\n",
       "        [11, 12]]])"
      ]
     },
     "execution_count": 2,
     "metadata": {},
     "output_type": "execute_result"
    }
   ],
   "source": [
    "a = np.array([[[1, 2],[3, 4],[5,6]],[[7, 8],[9,10],[11,12]]])\n",
    "a"
   ]
  },
  {
   "cell_type": "code",
   "execution_count": null,
   "metadata": {},
   "outputs": [],
   "source": [
    "np.reshape(a, (4, 3))      # 这里默认 order 为 C"
   ]
  },
  {
   "cell_type": "code",
   "execution_count": null,
   "metadata": {},
   "outputs": [],
   "source": [
    "np.reshape(a, (4, 3), order='F')"
   ]
  },
  {
   "cell_type": "markdown",
   "metadata": {},
   "source": [
    "C 喜闻乐见的 1 2 3 4....12。\n",
    "\n",
    "F 从外层 1 开始然后顺序为 7 3 9 5 11 2 8 4 10 6 12。\n",
    "\n",
    "1 7 在同一维度，之后没有，然后到了下一维度的，3 9 最高维度，虽然暂时可以竖着看但主要还是注重维度的。"
   ]
  },
  {
   "cell_type": "markdown",
   "metadata": {},
   "source": [
    "#### 参数axis\n",
    "在numpy.amin()函数中，axis=0，就代表沿着行坐标变化的方向进行计算，也就是对每一列进行amin操作，得到的结果数组的shape是（1，m），axis=0，就消除了行这一层次"
   ]
  },
  {
   "cell_type": "markdown",
   "metadata": {},
   "source": [
    "#### 复制"
   ]
  },
  {
   "cell_type": "code",
   "execution_count": null,
   "metadata": {},
   "outputs": [],
   "source": [
    "a1=aarr\n",
    "a2=np.array(aarr)\n",
    "# 一个引用赋值，一个复制赋值"
   ]
  },
  {
   "cell_type": "markdown",
   "metadata": {},
   "source": [
    "### 区间数组\n",
    "np.arange(start=0,stop,step=1,dtype=None)左闭右开，[start,stop)，返回np.array"
   ]
  },
  {
   "cell_type": "code",
   "execution_count": null,
   "metadata": {},
   "outputs": [],
   "source": [
    "a=np.arange(3.1)#支持浮点型数据\n",
    "a"
   ]
  },
  {
   "cell_type": "markdown",
   "metadata": {},
   "source": [
    "#### 注意"
   ]
  },
  {
   "cell_type": "code",
   "execution_count": null,
   "metadata": {},
   "outputs": [],
   "source": [
    "b=np.arange(0.1,0.4,0.1)#浮点型数据造成的误差\n",
    "b"
   ]
  },
  {
   "cell_type": "markdown",
   "metadata": {},
   "source": [
    "### 等差数列\n",
    "np.linspace(start,stop,num=50,endpoint=True,retstep=False,dtype=None)\n",
    "stop：默认包含stop，即闭区间，[start,stop]\n",
    "\n",
    "num：数列中的元素个数\n",
    "\n",
    "endpoint：是否包含stop\n",
    "\n",
    "retstep：是否显示step"
   ]
  },
  {
   "cell_type": "code",
   "execution_count": null,
   "metadata": {},
   "outputs": [],
   "source": [
    "d=np.linspace(0,49)\n",
    "d"
   ]
  },
  {
   "cell_type": "code",
   "execution_count": null,
   "metadata": {},
   "outputs": [],
   "source": [
    "e=np.linspace(0,50,endpoint=False,retstep=True)\n",
    "e#元组"
   ]
  },
  {
   "cell_type": "markdown",
   "metadata": {},
   "source": [
    "###  等比数列\n",
    "np.logspace(start,stop,num=50,endpoint=True,retstep=False,base=10,dtype=None) \n",
    "start：左端点为base的start次方\n",
    "\n",
    "stop：右端点为base的stop次方，默认包含stop，即闭区间，[start,stop]\n",
    "\n",
    "num：数列中的元素个数\n",
    "\n",
    "endpoint：是否包含stop\n",
    "\n",
    "理解：start到stop平均分成num等分，依次作为base的指数形成等比数列"
   ]
  },
  {
   "cell_type": "code",
   "execution_count": null,
   "metadata": {},
   "outputs": [],
   "source": [
    "r=np.logspace(0,9,10,base=2)\n",
    "r"
   ]
  },
  {
   "cell_type": "code",
   "execution_count": null,
   "metadata": {},
   "outputs": [],
   "source": [
    "rk=np.linspace(0,9,10)\n",
    "print(rk)\n",
    "2**rk==r#就是r"
   ]
  },
  {
   "cell_type": "markdown",
   "metadata": {},
   "source": [
    "### 全0，全1数列\n",
    "np.zeros(shape,dtype=float,order='C')\n",
    "\n",
    "np.ones(shape,dtype=float,order='C')\n",
    "\n",
    "order : {'C', 'F'}, optional, default: 'C'\n",
    "    Whether to store multi-dimensional data in row-major\n",
    "    (C-style) or column-major (Fortran-style) order in\n",
    "    memory."
   ]
  },
  {
   "cell_type": "code",
   "execution_count": null,
   "metadata": {},
   "outputs": [],
   "source": [
    "a=np.zeros([5,5])\n",
    "a"
   ]
  },
  {
   "cell_type": "code",
   "execution_count": null,
   "metadata": {},
   "outputs": [],
   "source": [
    "b=np.zeros((5,3,2))\n",
    "b"
   ]
  },
  {
   "cell_type": "code",
   "execution_count": null,
   "metadata": {},
   "outputs": [],
   "source": [
    "a1=[[1,1,2],[2,4,3],[2,2,4]]\n",
    "a1=np.array(a1)\n",
    "c=np.zeros_like(a1)\n",
    "c#a1的形状"
   ]
  },
  {
   "cell_type": "markdown",
   "metadata": {},
   "source": [
    "### 属性，可通过赋值修改\n",
    "ndim：秩，轴的数量或维度的数量\n",
    "\n",
    "shape：数组形状\n",
    "\n",
    "size：元素总个数，指有多少个‘数据’，和len不同\n",
    "\n",
    "dtpye：ndarray对象的元素类型\n",
    "\n",
    "itemsize：ndarray对象中每个元素占内存大小，单位字节\n",
    "\n",
    "flat：将高维数组拉平为一维数组"
   ]
  },
  {
   "cell_type": "markdown",
   "metadata": {},
   "source": [
    "#### 调整"
   ]
  },
  {
   "cell_type": "code",
   "execution_count": null,
   "metadata": {},
   "outputs": [],
   "source": [
    "a=np.arange(20)\n",
    "a"
   ]
  },
  {
   "cell_type": "markdown",
   "metadata": {},
   "source": [
    "##### 调整维度 a.reshape(shape)"
   ]
  },
  {
   "cell_type": "code",
   "execution_count": null,
   "metadata": {},
   "outputs": [],
   "source": [
    "a=np.arange(20)\n",
    "a.reshape((4,5))#维度改变要可行"
   ]
  },
  {
   "cell_type": "code",
   "execution_count": 9,
   "metadata": {},
   "outputs": [
    {
     "data": {
      "text/plain": [
       "(2, 2)"
      ]
     },
     "execution_count": 9,
     "metadata": {},
     "output_type": "execute_result"
    }
   ],
   "source": [
    "import numpy as np\n",
    "import pandas as pd\n",
    "a=np.array([[0,0],[1,2]])\n",
    "a.reshape((1,-1))\n",
    "pd.DataFrame(a)\n",
    "a.shape"
   ]
  },
  {
   "cell_type": "markdown",
   "metadata": {},
   "source": [
    "##### 调整维度 \n",
    "np.resize(a,new_shape)改变维度新数组若形状变大用a中元素依次循环填充\n",
    "\n",
    "a.resize(new_shape)改变维度新数组若形状变大用0填充\n",
    "\n",
    "a.shape=(m,n)直接修改属性即可"
   ]
  },
  {
   "cell_type": "code",
   "execution_count": null,
   "metadata": {},
   "outputs": [],
   "source": [
    "a=np.arange(20)\n",
    "b=np.resize(a,(4,7))\n",
    "b"
   ]
  },
  {
   "cell_type": "code",
   "execution_count": null,
   "metadata": {},
   "outputs": [],
   "source": [
    "a=np.arange(20)\n",
    "a.resize((4,7))\n",
    "a"
   ]
  },
  {
   "cell_type": "code",
   "execution_count": null,
   "metadata": {},
   "outputs": [],
   "source": [
    "a=np.arange(20)\n",
    "a.shape=(4,5)\n",
    "a"
   ]
  },
  {
   "cell_type": "markdown",
   "metadata": {},
   "source": [
    "##### 数据类型\n",
    "a.astype('int')"
   ]
  },
  {
   "cell_type": "code",
   "execution_count": null,
   "metadata": {},
   "outputs": [],
   "source": [
    "a=np.arange(20)\n",
    "a.astype('int')\n",
    "a"
   ]
  },
  {
   "cell_type": "markdown",
   "metadata": {},
   "source": [
    "### 切片和索引"
   ]
  },
  {
   "cell_type": "markdown",
   "metadata": {},
   "source": [
    "#### 一维同列表切片一样。\n",
    "但是数组切片是原数组视图，如果不想改变原数据，要显式复制（a.copy()）"
   ]
  },
  {
   "cell_type": "markdown",
   "metadata": {},
   "source": [
    "#### 二维索引，相当于列表的嵌套"
   ]
  },
  {
   "cell_type": "code",
   "execution_count": 4,
   "metadata": {},
   "outputs": [
    {
     "data": {
      "text/plain": [
       "array([[ 0,  1,  2,  3,  4],\n",
       "       [ 5,  6,  7,  8,  9],\n",
       "       [10, 11, 12, 13, 14],\n",
       "       [15, 16, 17, 18, 19]])"
      ]
     },
     "execution_count": 4,
     "metadata": {},
     "output_type": "execute_result"
    }
   ],
   "source": [
    "a=np.arange(20)\n",
    "a=a.reshape((4,5))\n",
    "a"
   ]
  },
  {
   "cell_type": "code",
   "execution_count": null,
   "metadata": {},
   "outputs": [],
   "source": [
    "a[2][2]"
   ]
  },
  {
   "cell_type": "code",
   "execution_count": null,
   "metadata": {},
   "outputs": [],
   "source": [
    "a[1,3]"
   ]
  },
  {
   "cell_type": "code",
   "execution_count": null,
   "metadata": {},
   "outputs": [],
   "source": [
    "a[2:]"
   ]
  },
  {
   "cell_type": "code",
   "execution_count": null,
   "metadata": {},
   "outputs": [],
   "source": [
    "a[2][2:]"
   ]
  },
  {
   "cell_type": "code",
   "execution_count": null,
   "metadata": {},
   "outputs": [],
   "source": [
    "a[:,2]"
   ]
  },
  {
   "cell_type": "code",
   "execution_count": 5,
   "metadata": {},
   "outputs": [
    {
     "data": {
      "text/plain": [
       "array([10, 11, 12, 13, 14])"
      ]
     },
     "execution_count": 5,
     "metadata": {},
     "output_type": "execute_result"
    }
   ],
   "source": [
    "a[:][2]#注意这里的不同，a[:]表示a的所有行，再加索引仍然表示行索引"
   ]
  },
  {
   "cell_type": "code",
   "execution_count": null,
   "metadata": {},
   "outputs": [],
   "source": [
    "a[[0,2,1],[0,2,2]]#前为行索引，后为列索引，一一对应"
   ]
  },
  {
   "cell_type": "code",
   "execution_count": null,
   "metadata": {},
   "outputs": [],
   "source": [
    "r=np.array([[0,0],[1,2]]).reshape(4)\n",
    "l=np.array([[0,0],[1,2]]).reshape(4)\n",
    "s=a[r,l]\n",
    "s"
   ]
  },
  {
   "cell_type": "markdown",
   "metadata": {},
   "source": [
    "#### 布尔索引\n",
    "实现的是一维数组中的每个元素的布尔型数据对一个与一维数组有着同样行数或列数的矩阵进行复核匹配。这种作用实际是把一维数组中布尔值为True的相应行或列提取了出来。"
   ]
  },
  {
   "cell_type": "code",
   "execution_count": null,
   "metadata": {},
   "outputs": [],
   "source": [
    "a=np.arange(20)\n",
    "a=a.reshape((4,5))\n",
    "a=a[a>10]\n",
    "a"
   ]
  },
  {
   "cell_type": "markdown",
   "metadata": {},
   "source": [
    "##### 注意\n",
    "使用 & 连接两个条件，输出大于 5 且小于 10 的元素 print(x[x>5 & x<10])：\n",
    "\n",
    "在 numpy 中会报错：The truth value of an array with more than one element is ambiguous\n",
    "\n",
    "三个实用的解决方法：\n",
    "\n",
    "1、条件加小括号x[(x > 5) & (x < 10)]\n",
    "\n",
    "2、使用 np.logical_and 方法x[np.logical_and(x > 5, x < 10)]\n",
    "\n",
    "3、使用 np.all 方法x[np.all([x > 5, x < 10],axis=0)]\n",
    "\n",
    "另外，布尔索引不一定针对数组的所有元素，可以针对某一列的数据，进而提取需要的数组。"
   ]
  },
  {
   "cell_type": "code",
   "execution_count": null,
   "metadata": {},
   "outputs": [],
   "source": [
    "a=np.arange(20)\n",
    "a=a.reshape((4,5))\n",
    "b=a[(a[...,0]>2) & (a[...,1]<10),...]\n",
    "b"
   ]
  },
  {
   "cell_type": "code",
   "execution_count": null,
   "metadata": {},
   "outputs": [],
   "source": [
    "a=np.arange(20)\n",
    "a=a.reshape((4,5))\n",
    "a=a[[True,False,True,False]]\n",
    "a"
   ]
  },
  {
   "cell_type": "code",
   "execution_count": null,
   "metadata": {},
   "outputs": [],
   "source": [
    "a=np.arange(16)\n",
    "a=a.reshape((4,4))\n",
    "a=a[:,[True,False,True,False]]\n",
    "a"
   ]
  },
  {
   "cell_type": "markdown",
   "metadata": {},
   "source": [
    "##### 索引不匹配\n",
    "a[[0,2,1],[0,2,2]]#前为行索引，后为列索引，一一对应\n",
    "\n",
    "使用布尔索引时，前后True的个数徐相等"
   ]
  },
  {
   "cell_type": "code",
   "execution_count": null,
   "metadata": {},
   "outputs": [],
   "source": [
    "a=np.arange(20)\n",
    "a=a.reshape((4,5))\n",
    "a=a[[True,False,True,False],[True,False,True,False,False]]\n",
    "a"
   ]
  },
  {
   "cell_type": "markdown",
   "metadata": {},
   "source": [
    "### 广播（broadcast）机制\n",
    "针对形状（shape）不同的两个数组进行数值计算的方式，对数值的算术运算通常在相应的元素上进行。\n",
    "\n",
    "如果两个数组a和b形状相同，那么a*b的结果就是a和b对应位元素相乘。\n",
    "\n",
    "如果两个数组形状不同，使用广播机制。核心是对形状较小的数组在横向或纵向上进行一定次数的重复，使其与形状较大的数组拥有相同的维度"
   ]
  },
  {
   "cell_type": "code",
   "execution_count": null,
   "metadata": {},
   "outputs": [],
   "source": [
    "a=np.arange(12).reshape((4,3))\n",
    "b=np.arange(1,4)"
   ]
  },
  {
   "cell_type": "code",
   "execution_count": null,
   "metadata": {},
   "outputs": [],
   "source": [
    "a"
   ]
  },
  {
   "cell_type": "code",
   "execution_count": null,
   "metadata": {},
   "outputs": [],
   "source": [
    "b"
   ]
  },
  {
   "cell_type": "code",
   "execution_count": null,
   "metadata": {},
   "outputs": [],
   "source": [
    "'''\n",
    "将b重复为array([[1, 2, 3],\n",
    "                 [1, 2, 3],\n",
    "                 [1, 2, 3],\n",
    "                 [1, 2, 3]])\n",
    "'''\n",
    "a+b"
   ]
  },
  {
   "cell_type": "code",
   "execution_count": null,
   "metadata": {},
   "outputs": [],
   "source": [
    "b=np.arange(1,5)\n",
    "b"
   ]
  },
  {
   "cell_type": "code",
   "execution_count": null,
   "metadata": {},
   "outputs": [],
   "source": [
    "a+b#报错"
   ]
  },
  {
   "cell_type": "markdown",
   "metadata": {},
   "source": [
    "#### 广播规则\n",
    "##### 如果输入数组的某个维度和输出数组的对应维度的长度相同或其长度为1时，才可计算\n",
    "##### 某个数组的某个维度为1时，沿着此维度运算时都用此维度上的第一组值\n",
    "##### 所有输入数组都向其中形状最长的数组看齐，形状不足的部分通常在前面加1补齐\n",
    "##### 输出数组的形状时输入数组形状的各个维度上的最大值"
   ]
  },
  {
   "attachments": {},
   "cell_type": "markdown",
   "metadata": {},
   "source": [
    "简单理解：\n",
    "\n",
    "对两个数组，分别比较他们的每一个维度（若其中一个数组没有当前维度则忽略），满足：\n",
    "\n",
    "##### 数组拥有相同形状。\n",
    "##### 当前维度的值相等。\n",
    "##### 当前维度的值有一个是 1。\n",
    "\n",
    "若条件不满足，抛出 '''ValueError: frames are not aligned''' 异常。"
   ]
  },
  {
   "cell_type": "markdown",
   "metadata": {},
   "source": [
    "#### 例子\n",
    "\n",
    "##### 有一个维度是1\n",
    "\n",
    "数组a：(3,4)\n",
    "\n",
    "数组b：(1,)\n",
    "\n",
    "34\n",
    "\n",
    "01\n",
    "\n",
    "可以运算，输出(3,4)\n",
    "\n",
    "----------\n",
    "\n",
    "数组a：(3,4,1)\n",
    "\n",
    "数组b：(1,3)\n",
    "\n",
    "341\n",
    "\n",
    "013\n",
    "\n",
    "可以运算，输出(3,4,3)\n",
    "\n",
    "----------\n",
    "\n",
    "数组a：(3,4,2)\n",
    "\n",
    "数组b：(1,3)\n",
    "\n",
    "342\n",
    "\n",
    "013\n",
    "\n",
    "不能运算\n",
    "\n",
    "##### 维度匹配\n",
    "\n",
    "数组a：(3,4)\n",
    "\n",
    "数组b：(4,)\n",
    "\n",
    "34\n",
    "\n",
    "04\n",
    "\n",
    "可以运算，输出(3,4)\n",
    "\n",
    "----------\n",
    "\n",
    "数组a：(3,4,2)\n",
    "\n",
    "数组b：(5,2)\n",
    "\n",
    "342\n",
    "\n",
    "0422\n",
    "\n",
    "不能运算\n"
   ]
  },
  {
   "cell_type": "markdown",
   "metadata": {},
   "source": [
    "### 统计函数\n",
    "\n",
    "a.mean()/np.mean()算术平均值是沿轴的元素的总和除以元素的数量。\n",
    "\n",
    "np.median()函数用于计算数组 a 中元素的中位数（中值）\n",
    "\n",
    "np.amin()用于计算数组中的元素沿指定轴的最小值。\n",
    "\n",
    "np.amax()用于计算数组中的元素沿指定轴的最大值。\n",
    "\n",
    "np.ptp()函数计算数组中元素最大值与最小值的差（最大值 - 最小值）。\n",
    "\n",
    "np.percentile()。\n",
    "\n",
    "np.average()函数根据在另一个数组中给出的各自的权重计算数组中元素的加权平均值。"
   ]
  },
  {
   "cell_type": "markdown",
   "metadata": {},
   "source": [
    "#### 平均值\n",
    "a.mean(axis=None, dtype=None, out=None, keepdims=False)\n",
    "\n",
    "默认对所有数据求平均，参数axis=0为纵轴，1为横向"
   ]
  },
  {
   "cell_type": "code",
   "execution_count": null,
   "metadata": {},
   "outputs": [],
   "source": [
    "a=np.arange(12).reshape((4,3))\n",
    "a"
   ]
  },
  {
   "cell_type": "code",
   "execution_count": null,
   "metadata": {},
   "outputs": [],
   "source": [
    "np.mean(a,axis=1)"
   ]
  },
  {
   "cell_type": "markdown",
   "metadata": {},
   "source": [
    "#### 中位数"
   ]
  },
  {
   "cell_type": "code",
   "execution_count": null,
   "metadata": {},
   "outputs": [],
   "source": [
    "np.median(a)"
   ]
  },
  {
   "cell_type": "markdown",
   "metadata": {},
   "source": [
    "#### numpy.percentile()\n",
    "\n",
    "百分位数是统计中使用的度量，表示小于这个值的观察值的百分比。 \n",
    "\n",
    "函数numpy.percentile()接受以下参数。\n",
    "\n",
    "numpy.percentile(a, q, axis)\n",
    "\n",
    "参数说明：\n",
    "\n",
    "a: 输入数组\n",
    "\n",
    "q: 要计算的百分位数，在 0 ~ 100 之间\n",
    "\n",
    "axis: 沿着它计算百分位数的轴\n",
    "\n",
    "首先明确百分位数：\n",
    "\n",
    "第 p 个百分位数是这样一个值，它使得至少有 p% 的数据项小于或等于这个值，且至少有 (100-p)% 的数据项大于或等于这个值。\n",
    "\n",
    "举个例子：高等院校的入学考试成绩经常以百分位数的形式报告。比如，假设某个考生在入学考试中的语文部分的原始分数为 54 分。相对于参加同一考试的其他学生来说，他的成绩如何并不容易知道。但是如果原始分数54分恰好对应的是第70百分位数，我们就能知道大约70%的学生的考分比他低，而约30%的学生考分比他高。\n",
    "\n",
    "这里的 p = 70。"
   ]
  },
  {
   "cell_type": "code",
   "execution_count": null,
   "metadata": {},
   "outputs": [],
   "source": [
    "a = np.array([[10, 7, 4], [3, 2, 1]])\n",
    "print ('我们的数组是：')\n",
    "print (a)\n",
    " \n",
    "print ('调用 percentile() 函数：')\n",
    "# 50% 的分位数，就是 a 里排序之后的中位数\n",
    "print (np.percentile(a, 50)) \n",
    " \n",
    "# axis 为 0，在纵列上求\n",
    "print (np.percentile(a, 50, axis=0)) \n",
    " \n",
    "# axis 为 1，在横行上求\n",
    "print (np.percentile(a, 50, axis=1)) \n",
    " \n",
    "# 保持维度不变\n",
    "print (np.percentile(a, 50, axis=1, keepdims=True))"
   ]
  },
  {
   "cell_type": "markdown",
   "metadata": {},
   "source": [
    "#### numpy.average()\n",
    "\n",
    "numpy.average() 函数根据在另一个数组中给出的各自的权重计算数组中元素的加权平均值。\n",
    "\n",
    "该函数可以接受一个轴参数。 如果没有指定轴，则数组会被展开。\n",
    "\n",
    "加权平均值即将各数值乘以相应的权数，然后加总求和得到总体值，再除以总的单位数。\n",
    "\n",
    "考虑数组[1,2,3,4]和相应的权重[4,3,2,1]，通过将相应元素的乘积相加，并将和除以权重的和，来计算加权平均值\n",
    "\n",
    "在多维数组中，可以指定用于计算的轴。axis=0或1。"
   ]
  },
  {
   "cell_type": "code",
   "execution_count": null,
   "metadata": {},
   "outputs": [],
   "source": [
    "a = np.array([1,2,3,4])  \n",
    "print ('我们的数组是：')\n",
    "print (a)\n",
    "print ('\\n')\n",
    "print ('调用 average() 函数：')\n",
    "print (np.average(a))\n",
    "print ('\\n')\n",
    "# 不指定权重时相当于 mean 函数\n",
    "wts = np.array([4,3,2,1])  \n",
    "print ('再次调用 average() 函数：')\n",
    "print (np.average(a,weights = wts))\n",
    "print ('\\n')\n",
    "# 如果 returned 参数设为 true，则返回权重的和  \n",
    "print ('权重的和：')\n",
    "print (np.average([1,2,3,  4],weights =  [4,3,2,1], returned =  True))"
   ]
  },
  {
   "cell_type": "markdown",
   "metadata": {},
   "source": [
    "#### numpy.ptp()\n",
    "\n",
    "函数计算数组中元素最大值与最小值的差（最大值 - 最小值）。"
   ]
  },
  {
   "cell_type": "code",
   "execution_count": null,
   "metadata": {},
   "outputs": [],
   "source": [
    "a = np.array([[3,7,5],[8,4,3],[2,4,9]])  \n",
    "print ('我们的数组是：')\n",
    "print (a)\n",
    "print ('\\n')\n",
    "print ('调用 ptp() 函数：')\n",
    "print (np.ptp(a))\n",
    "print ('\\n')\n",
    "print ('沿轴 1 调用 ptp() 函数：')\n",
    "print (np.ptp(a, axis =  1))\n",
    "print ('\\n')\n",
    "print ('沿轴 0 调用 ptp() 函数：')\n",
    "print (np.ptp(a, axis =  0))"
   ]
  },
  {
   "cell_type": "markdown",
   "metadata": {},
   "source": [
    "#### numpy.amin() 和 numpy.amax()\n",
    "\n",
    "np.amin()用于计算数组中的元素沿指定轴的最小值。\n",
    "\n",
    "np.amax()用于计算数组中的元素沿指定轴的最大值。"
   ]
  },
  {
   "cell_type": "code",
   "execution_count": null,
   "metadata": {},
   "outputs": [],
   "source": [
    "a = np.array([[3,7,5],[8,4,3],[2,4,9]])  \n",
    "print ('我们的数组是：')\n",
    "print (a)\n",
    "print ('\\n')\n",
    "print ('调用 amin() 函数：')\n",
    "print (np.amin(a,1))\n",
    "print ('\\n')\n",
    "print ('再次调用 amin() 函数：')\n",
    "print (np.amin(a,0))\n",
    "print ('\\n')\n",
    "print ('调用 amax() 函数：')\n",
    "print (np.amax(a))\n",
    "print ('\\n')\n",
    "print ('再次调用 amax() 函数：')\n",
    "print (np.amax(a, axis =  0))"
   ]
  },
  {
   "cell_type": "markdown",
   "metadata": {},
   "source": [
    "#### numpy.max(a)和numpy.min(a)\n",
    "或a.max()和a.min()"
   ]
  },
  {
   "cell_type": "code",
   "execution_count": null,
   "metadata": {},
   "outputs": [],
   "source": [
    "a = np.array([[3,7,5],[8,4,3],[2,4,9]])  \n",
    "print ('我们的数组是：')\n",
    "print (a)\n",
    "print ('\\n')\n",
    "print ('调用 min() 函数：')\n",
    "print (np.min(a,axis=1))\n",
    "print ('\\n')\n",
    "print ('再次调用 min() 函数：')\n",
    "print (np.min(a,axis=0))\n",
    "print ('\\n')\n",
    "print ('调用 max() 函数：')\n",
    "print (np.max(a))\n",
    "print ('\\n')\n",
    "print ('再次调用 max() 函数：')\n",
    "print (np.max(a, axis =  0))"
   ]
  },
  {
   "cell_type": "markdown",
   "metadata": {},
   "source": [
    "#### 标准差np.std(a)/a.std()"
   ]
  },
  {
   "cell_type": "code",
   "execution_count": null,
   "metadata": {},
   "outputs": [],
   "source": [
    "a=np.arange(12).reshape((4,3))\n",
    "a.std()\n",
    "np.std(a)"
   ]
  },
  {
   "cell_type": "markdown",
   "metadata": {},
   "source": [
    "#### 方差np.var(a)/a.var()"
   ]
  },
  {
   "cell_type": "code",
   "execution_count": null,
   "metadata": {},
   "outputs": [],
   "source": [
    "a=np.arange(12).reshape((4,3))\n",
    "a.var()\n",
    "np.var(a)"
   ]
  },
  {
   "cell_type": "markdown",
   "metadata": {},
   "source": [
    "#### 协方差 np.cov()"
   ]
  },
  {
   "cell_type": "markdown",
   "metadata": {},
   "source": [
    "#### 变异系数=标准差（std）/平均数（mean）"
   ]
  },
  {
   "cell_type": "markdown",
   "metadata": {},
   "source": [
    "### NumPy 算术函数\n",
    "\n",
    "np.add()，np.subtract()，np.multiply()，np.divide()\n",
    "\n",
    "np.reciprocal() 函数返回参数逐元素的倒数\n",
    "\n",
    "numpy.power()函数将第一个输入数组中的元素作为底数，计算它与第二个输入数组中相应元素的幂。\n",
    "\n",
    "numpy.mod() 计算输入数组中相应元素的相除后的余数。 函数 numpy.remainder() 也产生相同的结果。"
   ]
  },
  {
   "cell_type": "markdown",
   "metadata": {},
   "source": [
    "#### 简单的加减乘除\n",
    "\n",
    "np.add()，np.subtract()，np.multiply()，np.divide()\n",
    "\n",
    "需要注意的是数组必须具有相同的形状或符合数组广播规则。"
   ]
  },
  {
   "cell_type": "code",
   "execution_count": null,
   "metadata": {},
   "outputs": [],
   "source": [
    "a = np.arange(9, dtype = np.float_).reshape(3,3)  \n",
    "print ('第一个数组：')\n",
    "print (a)\n",
    "print ('\\n')\n",
    "print ('第二个数组：')\n",
    "b = np.array([10,10,10])  \n",
    "print (b)\n",
    "print ('\\n')\n",
    "print ('两个数组相加：')\n",
    "print (np.add(a,b))\n",
    "print ('\\n')\n",
    "print ('两个数组相减：')\n",
    "print (np.subtract(a,b))\n",
    "print ('\\n')\n",
    "print ('两个数组相乘：')\n",
    "print (np.multiply(a,b))\n",
    "print ('\\n')\n",
    "print ('两个数组相除：')\n",
    "print (np.divide(a,b))"
   ]
  },
  {
   "cell_type": "markdown",
   "metadata": {},
   "source": [
    "#### numpy.reciprocal()\n",
    "\n",
    "numpy.reciprocal() 函数返回参数逐元素的倒数。如 1/4 倒数为 4/1。"
   ]
  },
  {
   "cell_type": "code",
   "execution_count": null,
   "metadata": {},
   "outputs": [],
   "source": [
    "a = np.array([0.25,  1.33,  1,  100])  \n",
    "print ('我们的数组是：')\n",
    "print (a)\n",
    "print ('\\n')\n",
    "print ('调用 reciprocal 函数：')\n",
    "print (np.reciprocal(a))"
   ]
  },
  {
   "cell_type": "markdown",
   "metadata": {},
   "source": [
    "#### numpy.power()\n",
    "函数将第一个输入数组中的元素作为底数，计算它与第二个输入数组中相应元素的幂。"
   ]
  },
  {
   "cell_type": "code",
   "execution_count": null,
   "metadata": {},
   "outputs": [],
   "source": [
    "a = np.array([10,100,1000])  \n",
    "print ('我们的数组是；')\n",
    "print (a)\n",
    "print ('\\n') \n",
    "print ('调用 power 函数：')\n",
    "print (np.power(a,2))\n",
    "print ('\\n')\n",
    "print ('第二个数组：')\n",
    "b = np.array([1,2,3])  \n",
    "print (b)\n",
    "print ('\\n')\n",
    "print ('再次调用 power 函数：')\n",
    "print (np.power(a,b))"
   ]
  },
  {
   "cell_type": "markdown",
   "metadata": {},
   "source": [
    "#### numpy.mod() \n",
    "计算输入数组中相应元素的相除后的余数。 函数 numpy.remainder() 也产生相同的结果。"
   ]
  },
  {
   "cell_type": "code",
   "execution_count": null,
   "metadata": {},
   "outputs": [],
   "source": [
    "a = np.array([10,20,30]) \n",
    "b = np.array([3,5,7])  \n",
    "print ('第一个数组：')\n",
    "print (a)\n",
    "print ('\\n')\n",
    "print ('第二个数组：')\n",
    "print (b)\n",
    "print ('\\n')\n",
    "print ('调用 mod() 函数：')\n",
    "print (np.mod(a,b))\n",
    "print ('\\n')\n",
    "print ('调用 remainder() 函数：')\n",
    "print (np.remainder(a,b))"
   ]
  },
  {
   "cell_type": "markdown",
   "metadata": {},
   "source": [
    "### 矩阵运算\n",
    "\n",
    "数组用*是对应元素相乘，进行矩阵乘积时用@或dot()函数\n",
    "\n",
    "a@b\n",
    "\n",
    "a.dot(b)"
   ]
  },
  {
   "cell_type": "markdown",
   "metadata": {},
   "source": [
    "#### 创建\n",
    "np.matrix(arr)#拷贝\n",
    "\n",
    "np.mat(arr)#共享\n",
    "\n",
    "m1=np.mat('3,3.2:3.5 3.6')"
   ]
  },
  {
   "cell_type": "markdown",
   "metadata": {},
   "source": [
    "#### 转置\n",
    "np.transpose(m)\n",
    "\n",
    "m.T\n",
    "\n",
    "t(m)"
   ]
  },
  {
   "cell_type": "markdown",
   "metadata": {},
   "source": [
    "#### numpy.matlib.identity()\n",
    "numpy.matlib.identity() 函数返回给定大小的单位矩阵。\n",
    "\n",
    "单位矩阵是个方阵，从左上角到右下角的对角线（称为主对角线）上的元素均为 1，除此以外全都为 0。\n",
    "\n"
   ]
  },
  {
   "cell_type": "markdown",
   "metadata": {},
   "source": [
    "#### 线性代数函数库\n",
    "NumPy 提供了线性代数函数库 linalg，该库包含了线性代数所需的所有功能，可以看看下面的说明：\n",
    "\n",
    "函数      \t描述\n",
    "\n",
    "dot     \t两个数组的点积，即元素对应相乘\n",
    "\n",
    "vdot     \t两个向量的点积\n",
    "\n",
    "inner     \t两个数组的内积\n",
    "\n",
    "matmul     \t两个数组的矩阵积\n",
    "\n",
    "determinant\t  数组的行列式\n",
    "\n",
    "solve     \t求解线性矩阵方程\n",
    "\n",
    "inv     \t计算矩阵的乘法逆矩阵"
   ]
  },
  {
   "cell_type": "markdown",
   "metadata": {},
   "source": [
    "##### numpy.dot()\n",
    "numpy.dot() 对于两个一维的数组，计算的是这两个数组对应下标元素的乘积和(数学上称之为内积)；\n",
    "\n",
    "对于二维数组，计算的是两个数组的矩阵乘积；\n",
    "\n",
    "对于多维数组，它的通用计算公式如下，即结果数组中的每个元素都是：\n",
    "\n",
    "数组a的最后一维上的所有元素与数组b的倒数第二位上的所有元素的乘积和： \n",
    "\n",
    "dot(a, b)[i,j,k,m] = sum(a[i,j,:] * b[k,:,m])。"
   ]
  },
  {
   "cell_type": "markdown",
   "metadata": {},
   "source": [
    "##### numpy.vdot()\n",
    "numpy.vdot() 函数是两个向量的点积。 \n",
    "\n",
    "如果第一个参数是复数，那么它的共轭复数会用于计算。 如果参数是多维数组，它会被展开。"
   ]
  },
  {
   "cell_type": "markdown",
   "metadata": {},
   "source": [
    "##### numpy.inner()\n",
    "numpy.inner() 函数返回一维数组的向量内积。\n",
    "\n",
    "对于更高的维度，它返回最后一个轴上的和的乘积。"
   ]
  },
  {
   "cell_type": "markdown",
   "metadata": {},
   "source": [
    "##### numpy.matmul\n",
    "numpy.matmul 函数返回两个数组的矩阵乘积。 虽然它返回二维数组的正常乘积，但如果任一参数的维数大于2，则将其视为存在于最后两个索引的矩阵的栈，并进行相应广播。\n",
    "\n",
    "另一方面，如果任一参数是一维数组，则通过在其维度上附加 1 来将其提升为矩阵，并在乘法之后被去除。\n",
    "\n",
    "对于二维数组，它就是矩阵乘法："
   ]
  },
  {
   "cell_type": "markdown",
   "metadata": {},
   "source": [
    "##### numpy.linalg.det()\n",
    "numpy.linalg.det() 函数计算输入矩阵的行列式。\n",
    "\n",
    "行列式在线性代数中是非常有用的值。 它从方阵的对角元素计算。 对于 2×2 矩阵，它是左上和右下元素的乘积与其他两个的乘积的差。\n",
    "\n",
    "换句话说，对于矩阵[[a，b]，[c，d]]，行列式计算为 ad-bc。 较大的方阵被认为是 2×2 矩阵的组合。"
   ]
  },
  {
   "cell_type": "markdown",
   "metadata": {},
   "source": [
    "##### numpy.linalg.solve()\n",
    "numpy.linalg.solve() 函数给出了矩阵形式的线性方程的解。"
   ]
  },
  {
   "cell_type": "markdown",
   "metadata": {},
   "source": [
    "##### numpy.linalg.inv()\n",
    "numpy.linalg.inv() 函数计算矩阵的乘法逆矩阵。\n",
    "\n",
    "注：E或I为单位矩阵。"
   ]
  },
  {
   "cell_type": "markdown",
   "metadata": {},
   "source": [
    "### 排序、条件刷选函数\n",
    "NumPy 提供了多种排序的方法。 这些排序函数实现不同的排序算法，每个排序算法的特征在于执行速度，最坏情况性能，所需的工作空间和算法的稳定性。 \n",
    "\n",
    "种类\t              速度\t最坏情况\t  工作空间\t  稳定性\n",
    "\n",
    "quicksort（快速排序）\t    1\t   O(n^2)\t      0       否\n",
    "\n",
    "mergesort（归并排序）\t    2\t   O(n*log(n))\t~ n/2\t     是\n",
    "\n",
    "heapsort（堆排序）       3     O(n*log(n))\t  0\t       否"
   ]
  },
  {
   "cell_type": "markdown",
   "metadata": {},
   "source": [
    "#### numpy.sort()\n",
    "函数返回输入数组的排序副本。\n",
    "\n",
    "numpy.sort(a, axis, kind, order)\n",
    "\n",
    "参数说明：\n",
    "\n",
    "a: 要排序的数组\n",
    "\n",
    "axis: 沿着它排序数组的轴，如果没有数组会被展开，沿着最后的轴排序， axis=0 按列排序，axis=1 按行排序\n",
    "\n",
    "kind: 默认为'quicksort'（快速排序）\n",
    "\n",
    "order: 如果数组包含字段，则是要排序的字段"
   ]
  },
  {
   "cell_type": "code",
   "execution_count": null,
   "metadata": {},
   "outputs": [],
   "source": [
    "a = np.array([[3,7],[9,1]])  \n",
    "print ('我们的数组是：')\n",
    "print (a)\n",
    "print ('\\n')\n",
    "print ('调用 sort() 函数：')\n",
    "print (np.sort(a))\n",
    "print ('\\n')\n",
    "print ('按列排序：')\n",
    "print (np.sort(a, axis =  0))\n",
    "print ('\\n')\n",
    "# 在 sort 函数中排序字段 \n",
    "dt = np.dtype([('name',  'S10'),('age',  int)]) \n",
    "a = np.array([(\"raju\",21),(\"anil\",25),(\"ravi\",  17),  (\"amar\",27)], dtype = dt)  \n",
    "print ('我们的数组是：')\n",
    "print (a)\n",
    "print ('\\n')\n",
    "print ('按 name 排序：')\n",
    "print (np.sort(a, order =  'name'))"
   ]
  },
  {
   "cell_type": "markdown",
   "metadata": {},
   "source": [
    "#### numpy.argsort()\n",
    "numpy.argsort() 函数返回的是数组值从小到大的索引值。"
   ]
  },
  {
   "cell_type": "code",
   "execution_count": null,
   "metadata": {},
   "outputs": [],
   "source": [
    "x = np.array([3,  1,  2])  \n",
    "print ('我们的数组是：')\n",
    "print (x)\n",
    "print ('\\n')\n",
    "print ('对 x 调用 argsort() 函数：')\n",
    "y = np.argsort(x)  \n",
    "print (y)\n",
    "print ('\\n')\n",
    "print ('以排序后的顺序重构原数组：')\n",
    "print (x[y])\n",
    "print ('\\n')\n",
    "print ('使用循环重构原数组：')\n",
    "for i in y:  \n",
    "    print (x[i], end=\" \")"
   ]
  },
  {
   "cell_type": "markdown",
   "metadata": {},
   "source": [
    "#### numpy.lexsort()\n",
    "numpy.lexsort() 用于对多个序列进行排序。把它想象成对电子表格进行排序，每一列代表一个序列，排序时优先照顾靠后的列。\n",
    "\n",
    "这里举一个应用场景：小升初考试，重点班录取学生按照总成绩录取。在总成绩相同时，数学成绩高的优先录取，在总成绩和数学成绩都相同时，按照英语成绩录取…… 这里，总成绩排在电子表格的最后一列，数学成绩在倒数第二列，英语成绩在倒数第三列。"
   ]
  },
  {
   "cell_type": "markdown",
   "metadata": {},
   "source": [
    "#### numpy.argmax() 和 numpy.argmin()\n",
    "numpy.argmax() 和 numpy.argmin()函数分别沿给定轴返回最大和最小元素的索引。"
   ]
  },
  {
   "cell_type": "markdown",
   "metadata": {},
   "source": [
    "#### numpy.nonzero()\n",
    "numpy.nonzero() 函数返回输入数组中非零元素的索引。"
   ]
  },
  {
   "cell_type": "markdown",
   "metadata": {},
   "source": [
    "#### numpy.where()\n",
    "numpy.where() 函数返回输入数组中满足给定条件的元素的索引。"
   ]
  },
  {
   "cell_type": "markdown",
   "metadata": {},
   "source": [
    "#### numpy.extract()\n",
    "numpy.extract() 函数根据某个条件从数组中抽取元素，返回满条件的元素。"
   ]
  },
  {
   "cell_type": "markdown",
   "metadata": {},
   "source": [
    "### 自定义复合类型\n",
    "结构化数据\n",
    "\n",
    "b\t布尔型\n",
    "\n",
    "i\t(有符号) 整型\n",
    "\n",
    "u\t无符号整型 integer\n",
    "\n",
    "f\t浮点型\n",
    "\n",
    "c\t复数浮点型\n",
    "\n",
    "m\ttimedelta（时间间隔）\n",
    "\n",
    "M\tdatetime（日期时间）\n",
    "\n",
    "O\t(Python) 对象\n",
    "\n",
    "S, a\t(byte-)字符串\n",
    "\n",
    "U\tUnicode\n",
    "\n",
    "V\t原始数据 (void)"
   ]
  },
  {
   "cell_type": "markdown",
   "metadata": {},
   "source": [
    "#### 数据类型对象（numpy.dtype 类的实例）\n",
    "用来描述与数组对应的内存区域是如何使用，它描述了数据的以下几个方面：：\n",
    "\n",
    "数据的类型（整数，浮点数或者 Python 对象）\n",
    "\n",
    "数据的大小（例如， 整数使用多少个字节存储）\n",
    "\n",
    "数据的字节顺序（小端法或大端法）\n",
    "\n",
    "在结构化类型的情况下，字段的名称、每个字段的数据类型和每个字段所取的内存块的部分\n",
    "\n",
    "如果数据类型是子数组，那么它的形状和数据类型是什么。\n",
    "\n",
    "字节顺序是通过对数据类型预先设定 < 或 > 来决定的。 < 意味着小端法(最小值存储在最小的地址，即低位组放在最前面)。> 意味着大端法(最重要的字节存储在最小的地址，即高位组放在最前面)。\n",
    "\n",
    "dtype 对象是使用以下语法构造的：\n",
    "\n",
    "numpy.dtype(object, align, copy)\n",
    "\n",
    "object - 要转换为的数据类型对象\n",
    "\n",
    "align - 如果为 true，填充字段使其类似 C 的结构体。\n",
    "\n",
    "copy - 复制 dtype 对象 ，如果为 false，则是对内置数据类型对象的引用"
   ]
  },
  {
   "cell_type": "markdown",
   "metadata": {},
   "source": [
    "##### 实例1"
   ]
  },
  {
   "cell_type": "code",
   "execution_count": null,
   "metadata": {},
   "outputs": [],
   "source": [
    "# 使用标量类型\n",
    "dt = np.dtype(np.int32)\n",
    "print(dt)"
   ]
  },
  {
   "cell_type": "markdown",
   "metadata": {},
   "source": [
    "##### 实例2"
   ]
  },
  {
   "cell_type": "code",
   "execution_count": null,
   "metadata": {},
   "outputs": [],
   "source": [
    "# int8, int16, int32, int64 四种数据类型可以使用字符串 'i1', 'i2','i4','i8' 代替\n",
    "dt = np.dtype('i4')\n",
    "print(dt)"
   ]
  },
  {
   "cell_type": "markdown",
   "metadata": {},
   "source": [
    "##### 实例3"
   ]
  },
  {
   "cell_type": "code",
   "execution_count": null,
   "metadata": {},
   "outputs": [],
   "source": [
    "# 字节顺序标注\n",
    "dt = np.dtype('<i4')\n",
    "print(dt)"
   ]
  },
  {
   "cell_type": "markdown",
   "metadata": {},
   "source": [
    "##### 实例4"
   ]
  },
  {
   "cell_type": "code",
   "execution_count": null,
   "metadata": {},
   "outputs": [],
   "source": [
    "# 首先创建结构化数据类型\n",
    "dt = np.dtype([('age',np.int8)]) \n",
    "print(dt)"
   ]
  },
  {
   "cell_type": "markdown",
   "metadata": {},
   "source": [
    "##### 实例5"
   ]
  },
  {
   "cell_type": "code",
   "execution_count": null,
   "metadata": {},
   "outputs": [],
   "source": [
    "# 将数据类型应用于 ndarray 对象\n",
    "dt = np.dtype([('age',np.int8)]) \n",
    "a = np.array([(10,),(20,),(30,)], dtype = dt) \n",
    "print(a)"
   ]
  },
  {
   "cell_type": "markdown",
   "metadata": {},
   "source": [
    "##### 实例6"
   ]
  },
  {
   "cell_type": "code",
   "execution_count": null,
   "metadata": {},
   "outputs": [],
   "source": [
    "# 类型字段名可以用于存取实际的 age 列\n",
    "dt = np.dtype([('age',np.int8)]) \n",
    "a = np.array([(10,),(20,),(30,)], dtype = dt) \n",
    "print(a['age'])"
   ]
  },
  {
   "cell_type": "markdown",
   "metadata": {},
   "source": [
    "##### 实例7"
   ]
  },
  {
   "cell_type": "code",
   "execution_count": null,
   "metadata": {},
   "outputs": [],
   "source": [
    "#下面的示例定义一个结构化数据类型 student，包含字符串字段 name，整数字段 age，及浮点字段 marks，并将这个 dtype 应用到 ndarray 对象。\n",
    "student = np.dtype([('name','S20'), ('age', 'i1'), ('marks', 'f4')]) \n",
    "print(student)"
   ]
  },
  {
   "cell_type": "markdown",
   "metadata": {},
   "source": [
    "##### 实例8"
   ]
  },
  {
   "cell_type": "code",
   "execution_count": null,
   "metadata": {},
   "outputs": [],
   "source": [
    "student = np.dtype([('name','S20'), ('age', 'i1'), ('marks', 'f4')]) \n",
    "a = np.array([('abc', 21, 50),('xyz', 18, 75)], dtype = student) \n",
    "print(a)"
   ]
  },
  {
   "cell_type": "markdown",
   "metadata": {},
   "source": [
    "#### 其他示例\n",
    "为变量使用别名后可以直接通过别名索引得到数据"
   ]
  },
  {
   "cell_type": "code",
   "execution_count": null,
   "metadata": {},
   "outputs": [],
   "source": [
    "data=[('uy',[89,60,22],60),\n",
    "    ('er',[53,45,23],77),\n",
    "    ('xg',[57,52,14],25)]\n",
    "data"
   ]
  },
  {
   "cell_type": "code",
   "execution_count": null,
   "metadata": {},
   "outputs": [],
   "source": [
    "a=np.array(data)\n",
    "a"
   ]
  },
  {
   "cell_type": "markdown",
   "metadata": {},
   "source": [
    "##### 方法1"
   ]
  },
  {
   "cell_type": "code",
   "execution_count": null,
   "metadata": {},
   "outputs": [],
   "source": [
    "a=np.array(data,dtype='U3,3int32,int32')\n",
    "a"
   ]
  },
  {
   "cell_type": "markdown",
   "metadata": {},
   "source": [
    "##### 方法2"
   ]
  },
  {
   "cell_type": "code",
   "execution_count": null,
   "metadata": {},
   "outputs": [],
   "source": [
    "b=np.array(data,dtype=[('name1','str',2),('name2','int32',3),('name3','int32',1)])\n",
    "b"
   ]
  },
  {
   "cell_type": "markdown",
   "metadata": {},
   "source": [
    "##### 方法3"
   ]
  },
  {
   "cell_type": "code",
   "execution_count": null,
   "metadata": {},
   "outputs": [],
   "source": [
    "b=np.array(data,dtype={'names':['name1','name2','name3'],'formats':['str','3int32','int32']})\n",
    "b"
   ]
  },
  {
   "cell_type": "markdown",
   "metadata": {},
   "source": [
    "##### 方法4"
   ]
  },
  {
   "cell_type": "code",
   "execution_count": null,
   "metadata": {},
   "outputs": [],
   "source": [
    "b=np.array(data,dtype={'name1'：('U3',0),'name2'：('3int32',16),'name3'：('int32',28)})\n",
    "b"
   ]
  },
  {
   "cell_type": "markdown",
   "metadata": {},
   "source": [
    "### 文件操作\n",
    "load() 和 save() 函数是读写文件数组数据的两个主要函数，默认情况下，数组是以未压缩的原始二进制格式保存在扩展名为 .npy 的文件中。\n",
    "\n",
    "savez() 函数用于将多个数组写入文件，默认情况下，数组是以未压缩的原始二进制格式保存在扩展名为 .npz 的文件中。\n",
    "\n",
    "loadtxt() 和 savetxt() 函数处理正常的文本文件(.txt 等)"
   ]
  },
  {
   "cell_type": "markdown",
   "metadata": {},
   "source": [
    "#### loadtxt()\n",
    "np.loadtxt(fname,\n",
    "    dtype=<class 'float'>,\n",
    "    comments='#',\n",
    "    delimiter=None,\n",
    "    converters=None,\n",
    "    skiprows=0,\n",
    "    usecols=None,\n",
    "    unpack=False,\n",
    "    ndmin=0,\n",
    "    encoding='bytes',\n",
    "    max_rows=None,)\n",
    "    \n",
    "comments：表示注释字符集开始，默认为#，以#开始的行不会读取\n",
    "\n",
    "delimiter：分割符。是字符串\n",
    "\n",
    "converters：是字典，将特定列（键）的数据转换为字典中对应函数（值）转换的浮点型数据\n",
    "\n",
    "skiprows：跳过行，从头\n",
    "\n",
    "usecols：读取列，元组"
   ]
  },
  {
   "cell_type": "markdown",
   "metadata": {},
   "source": [
    "#### numpy.save()\n",
    "numpy.save() 函数将数组保存到以 .npy 为扩展名的文件中。\n",
    "\n",
    "numpy.save(file, arr, allow_pickle=True, fix_imports=True)\n",
    "参数说明：\n",
    "\n",
    "file：要保存的文件，扩展名为 .npy，如果文件路径末尾没有扩展名 .npy，该扩展名会被自动加上。\n",
    "\n",
    "arr: 要保存的数组\n",
    "\n",
    "allow_pickle: 可选，布尔值，允许使用 Python pickles 保存对象数组，Python 中的 pickle 用于在保存到磁盘文件或从磁盘文件读取之前，对对象进行序列化和反序列化。\n",
    "\n",
    "fix_imports: 可选，为了方便 Pyhton2 中读取 Python3 保存的数据。\n",
    "\n",
    "查看文件内容可以看出文件是乱码的，因为它们是 Numpy 专用的二进制格式后的数据。可以使用 load() 函数来读取数据就可以正常显示:b = np.load('outfile.npy') "
   ]
  },
  {
   "cell_type": "markdown",
   "metadata": {},
   "source": [
    "### 随机函数"
   ]
  },
  {
   "cell_type": "markdown",
   "metadata": {},
   "source": [
    "#### np.random.rand(d0,d1,...)\n",
    "根据指定维度d0,d1,...生成[0,1)之间的数据，返回对应维度的数组"
   ]
  },
  {
   "cell_type": "code",
   "execution_count": null,
   "metadata": {},
   "outputs": [],
   "source": [
    "np.random.rand(100)"
   ]
  },
  {
   "cell_type": "code",
   "execution_count": null,
   "metadata": {},
   "outputs": [],
   "source": [
    "np.random.rand(2,3,4)"
   ]
  },
  {
   "cell_type": "markdown",
   "metadata": {},
   "source": [
    "#### np.random.randn(d0,d1,...)\n",
    "按指定维度d0,d1,...以array返回一个或一组样本，具有标准正态分布"
   ]
  },
  {
   "cell_type": "code",
   "execution_count": null,
   "metadata": {},
   "outputs": [],
   "source": [
    "np.random.randn(100)"
   ]
  },
  {
   "cell_type": "code",
   "execution_count": null,
   "metadata": {},
   "outputs": [],
   "source": [
    "np.random.randn(2,100)"
   ]
  },
  {
   "cell_type": "markdown",
   "metadata": {},
   "source": [
    "#### np.random.randint(low,high=None,size=None,dtype='1')\n",
    "返回区间[low,high)上的随机整数构成的数组，high未赋值则范围是[1,low）\n",
    "\n",
    "size为数组维度"
   ]
  },
  {
   "cell_type": "code",
   "execution_count": null,
   "metadata": {},
   "outputs": [],
   "source": [
    "np.random.randint(30,size=(2,3))"
   ]
  },
  {
   "cell_type": "code",
   "execution_count": null,
   "metadata": {},
   "outputs": [],
   "source": [
    "np.random.randint(30,100,50)"
   ]
  },
  {
   "cell_type": "markdown",
   "metadata": {},
   "source": [
    "#### np.random.sample(size=None)\n",
    "返回[0,1)上的随机浮点数数组"
   ]
  },
  {
   "cell_type": "markdown",
   "metadata": {},
   "source": [
    "#### np.random.seed()\n",
    "使用相同的seed()值，则每次生成的随机数都相同，使得随机数可以预测\n",
    "\n",
    "但是，只在调用的时候seed()一下并不能使生成的随机数相同，需要每次调用都seed()一下，表示种子相同，从而生成的随机数相同。而且每个seed()语句最多只能影响一个随机函数"
   ]
  },
  {
   "cell_type": "code",
   "execution_count": null,
   "metadata": {},
   "outputs": [],
   "source": [
    "np.random.seed(1)\n",
    "q=np.random.randn(100)"
   ]
  },
  {
   "cell_type": "code",
   "execution_count": null,
   "metadata": {},
   "outputs": [],
   "source": [
    "np.random.seed(1)\n",
    "p=np.random.randn(100)"
   ]
  },
  {
   "cell_type": "code",
   "execution_count": null,
   "metadata": {},
   "outputs": [],
   "source": [
    "p==q#两次生成的结果完全相同，就是因为seed()作用"
   ]
  },
  {
   "cell_type": "markdown",
   "metadata": {},
   "source": [
    "#### np.random.normal(loc=0.0,scale=1.0,size=None)\n",
    "生成一般的正态分布数组，期望为loc，方差为scale，size是返回数组的维度"
   ]
  },
  {
   "cell_type": "markdown",
   "metadata": {},
   "source": [
    "### 数组的其他函数\n",
    "不指定轴时，将数组变为一维再操作\n",
    "\n",
    "resize()\n",
    "\n",
    "append()默认返回一维数组\n",
    "\n",
    "insert()再给定索引值前一个位置插入给定值\n",
    "\n",
    "delete()删除指定数组元素或子数组\n",
    "\n",
    "argwhere()返回符合条件的索引坐标\n",
    "\n",
    "unique()删除重复元素"
   ]
  },
  {
   "cell_type": "code",
   "execution_count": null,
   "metadata": {},
   "outputs": [],
   "source": []
  }
 ],
 "metadata": {
  "kernelspec": {
   "display_name": "Python 3",
   "language": "python",
   "name": "python3"
  },
  "language_info": {
   "codemirror_mode": {
    "name": "ipython",
    "version": 3
   },
   "file_extension": ".py",
   "mimetype": "text/x-python",
   "name": "python",
   "nbconvert_exporter": "python",
   "pygments_lexer": "ipython3",
   "version": "3.10.4"
  },
  "toc": {
   "base_numbering": 1,
   "nav_menu": {},
   "number_sections": true,
   "sideBar": true,
   "skip_h1_title": false,
   "title_cell": "Table of Contents",
   "title_sidebar": "Contents",
   "toc_cell": false,
   "toc_position": {
    "height": "calc(100% - 180px)",
    "left": "10px",
    "top": "150px",
    "width": "213.182px"
   },
   "toc_section_display": true,
   "toc_window_display": true
  },
  "varInspector": {
   "cols": {
    "lenName": 16,
    "lenType": 16,
    "lenVar": 40
   },
   "kernels_config": {
    "python": {
     "delete_cmd_postfix": "",
     "delete_cmd_prefix": "del ",
     "library": "var_list.py",
     "varRefreshCmd": "print(var_dic_list())"
    },
    "r": {
     "delete_cmd_postfix": ") ",
     "delete_cmd_prefix": "rm(",
     "library": "var_list.r",
     "varRefreshCmd": "cat(var_dic_list()) "
    }
   },
   "position": {
    "height": "144.83px",
    "left": "214.636px",
    "right": "20px",
    "top": "234px",
    "width": "350px"
   },
   "types_to_exclude": [
    "module",
    "function",
    "builtin_function_or_method",
    "instance",
    "_Feature"
   ],
   "window_display": false
  }
 },
 "nbformat": 4,
 "nbformat_minor": 2
}

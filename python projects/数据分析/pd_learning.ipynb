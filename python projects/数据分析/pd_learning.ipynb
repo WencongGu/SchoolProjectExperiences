{
 "cells": [
  {
   "cell_type": "markdown",
   "metadata": {},
   "source": [
    "## pandas数据分析\n",
    "基础是numpy，图像库是matplotlib，主要用于数据分析，提供了大量处理数据的函数\n",
    "\n",
    "pandas官网：https://pandas.pydata.org/"
   ]
  },
  {
   "cell_type": "code",
   "execution_count": 1,
   "metadata": {},
   "outputs": [
    {
     "data": {
      "text/plain": [
       "'2.0.1'"
      ]
     },
     "execution_count": 1,
     "metadata": {},
     "output_type": "execute_result"
    }
   ],
   "source": [
    "import numpy as np\n",
    "import pandas as pd\n",
    "pd.__version__"
   ]
  },
  {
   "cell_type": "markdown",
   "metadata": {},
   "source": [
    "### 文件操作"
   ]
  },
  {
   "cell_type": "markdown",
   "metadata": {},
   "source": [
    "#### 读文件\n",
    "pd.read_csv(filepath_or_buffer,sep=',',header,names,index_col,usecols,skiprows,encoding='utf-8')\n",
    "\n",
    "- <b>选用csv文件是因为它在存储的时候保留的纯粹是数据，以“,”为分隔符，这点用记事本打开一个csv文件就可以验证，而excel文件保存时会保存一些配置文件。因此csv文件适合用来保存一些大文件</b>\n",
    "\n",
    "参数：\n",
    "\n",
    "filepath_or_buffer：文件路径，本地或网络，或者文件流\n",
    "\n",
    "sep：分隔符，默认是,\n",
    "\n",
    "headers：表示是否将某行作为列名，默认自动识别（第一行），之前的行都不再读取\n",
    "\n",
    "names：设置此字段为列表，初始化列名\n",
    "\n",
    "index_col：选择列为行索引，默认None\n",
    "\n",
    "usecols：选择读取文件的某些列，设置为相应列的索引列表\n",
    "\n",
    "skipsows：跳过某几行\n",
    "\n",
    "converters：是字典，将特定列（键）的数据转换为字典中对应函数（值）转换的浮点型数据\n",
    "\n",
    "pd.read_excel()"
   ]
  },
  {
   "cell_type": "markdown",
   "metadata": {},
   "source": [
    "### Series"
   ]
  },
  {
   "cell_type": "markdown",
   "metadata": {},
   "source": [
    "#### 定义\n",
    "是一个一维的数组，但是它是一列，而且有索引。\n",
    "\n",
    "类似于有序字典，有index和value"
   ]
  },
  {
   "cell_type": "markdown",
   "metadata": {},
   "source": [
    "#### 创建\n",
    "pd.Series(data,index=None,dtype,name=None,copy=False)\n",
    "\n",
    "data：输入可以是列表、常量、ndarray、字典等\n",
    "\n",
    "index：不必唯一，但必须为不可变类型\n",
    "\n",
    "dtype：Series中所有元素必须有相同的数据类型\n",
    "\n",
    "name：Series的名称"
   ]
  },
  {
   "cell_type": "code",
   "execution_count": null,
   "metadata": {},
   "outputs": [],
   "source": [
    "pd.Series(3)"
   ]
  },
  {
   "cell_type": "code",
   "execution_count": null,
   "metadata": {},
   "outputs": [],
   "source": [
    "pd.Series((3,2,5))"
   ]
  },
  {
   "cell_type": "code",
   "execution_count": null,
   "metadata": {},
   "outputs": [],
   "source": [
    "a=pd.Series({'key1':10,'key2':67},name='myseries')\n",
    "a"
   ]
  },
  {
   "cell_type": "code",
   "execution_count": null,
   "metadata": {},
   "outputs": [],
   "source": [
    "a=np.arange(10)\n",
    "b=pd.Series(a)\n",
    "b"
   ]
  },
  {
   "cell_type": "code",
   "execution_count": 5,
   "metadata": {},
   "outputs": [
    {
     "data": {
      "text/plain": [
       "k1    Google\n",
       "3       Wiki\n",
       "j        NaN\n",
       "dtype: object"
      ]
     },
     "execution_count": 5,
     "metadata": {},
     "output_type": "execute_result"
    }
   ],
   "source": [
    "sites = {'k1': \"Google\", 'k2': \"Runoob\", 3: \"Wiki\", 'k4': \"Runoob\"}\n",
    "myvar = pd.Series(sites, index = ['k1', 3, 2, 'j'])\n",
    "myvar"
   ]
  },
  {
   "cell_type": "markdown",
   "metadata": {},
   "source": [
    "只需部分数据则取键名，字典中没有的index则为nan"
   ]
  },
  {
   "cell_type": "code",
   "execution_count": 3,
   "metadata": {
    "scrolled": true
   },
   "outputs": [
    {
     "ename": "ValueError",
     "evalue": "Length of values (10) does not match length of index (4)",
     "output_type": "error",
     "traceback": [
      "\u001b[0;31m---------------------------------------------------------------------------\u001b[0m",
      "\u001b[0;31mValueError\u001b[0m                                Traceback (most recent call last)",
      "Cell \u001b[0;32mIn[3], line 2\u001b[0m\n\u001b[1;32m      1\u001b[0m a\u001b[39m=\u001b[39mnp\u001b[39m.\u001b[39marange(\u001b[39m10\u001b[39m)\n\u001b[0;32m----> 2\u001b[0m b\u001b[39m=\u001b[39mpd\u001b[39m.\u001b[39;49mSeries(a,index\u001b[39m=\u001b[39;49m[\u001b[39m'\u001b[39;49m\u001b[39mk1\u001b[39;49m\u001b[39m'\u001b[39;49m, \u001b[39m3\u001b[39;49m, \u001b[39m2\u001b[39;49m, \u001b[39m'\u001b[39;49m\u001b[39mj\u001b[39;49m\u001b[39m'\u001b[39;49m])\n\u001b[1;32m      3\u001b[0m b\u001b[39m#报错，index与data不匹配\u001b[39;00m\n",
      "File \u001b[0;32m/Library/Frameworks/Python.framework/Versions/3.10/lib/python3.10/site-packages/pandas/core/series.py:500\u001b[0m, in \u001b[0;36mSeries.__init__\u001b[0;34m(self, data, index, dtype, name, copy, fastpath)\u001b[0m\n\u001b[1;32m    498\u001b[0m     index \u001b[39m=\u001b[39m default_index(\u001b[39mlen\u001b[39m(data))\n\u001b[1;32m    499\u001b[0m \u001b[39melif\u001b[39;00m is_list_like(data):\n\u001b[0;32m--> 500\u001b[0m     com\u001b[39m.\u001b[39;49mrequire_length_match(data, index)\n\u001b[1;32m    502\u001b[0m \u001b[39m# create/copy the manager\u001b[39;00m\n\u001b[1;32m    503\u001b[0m \u001b[39mif\u001b[39;00m \u001b[39misinstance\u001b[39m(data, (SingleBlockManager, SingleArrayManager)):\n",
      "File \u001b[0;32m/Library/Frameworks/Python.framework/Versions/3.10/lib/python3.10/site-packages/pandas/core/common.py:576\u001b[0m, in \u001b[0;36mrequire_length_match\u001b[0;34m(data, index)\u001b[0m\n\u001b[1;32m    572\u001b[0m \u001b[39m\"\"\"\u001b[39;00m\n\u001b[1;32m    573\u001b[0m \u001b[39mCheck the length of data matches the length of the index.\u001b[39;00m\n\u001b[1;32m    574\u001b[0m \u001b[39m\"\"\"\u001b[39;00m\n\u001b[1;32m    575\u001b[0m \u001b[39mif\u001b[39;00m \u001b[39mlen\u001b[39m(data) \u001b[39m!=\u001b[39m \u001b[39mlen\u001b[39m(index):\n\u001b[0;32m--> 576\u001b[0m     \u001b[39mraise\u001b[39;00m \u001b[39mValueError\u001b[39;00m(\n\u001b[1;32m    577\u001b[0m         \u001b[39m\"\u001b[39m\u001b[39mLength of values \u001b[39m\u001b[39m\"\u001b[39m\n\u001b[1;32m    578\u001b[0m         \u001b[39mf\u001b[39m\u001b[39m\"\u001b[39m\u001b[39m(\u001b[39m\u001b[39m{\u001b[39;00m\u001b[39mlen\u001b[39m(data)\u001b[39m}\u001b[39;00m\u001b[39m) \u001b[39m\u001b[39m\"\u001b[39m\n\u001b[1;32m    579\u001b[0m         \u001b[39m\"\u001b[39m\u001b[39mdoes not match length of index \u001b[39m\u001b[39m\"\u001b[39m\n\u001b[1;32m    580\u001b[0m         \u001b[39mf\u001b[39m\u001b[39m\"\u001b[39m\u001b[39m(\u001b[39m\u001b[39m{\u001b[39;00m\u001b[39mlen\u001b[39m(index)\u001b[39m}\u001b[39;00m\u001b[39m)\u001b[39m\u001b[39m\"\u001b[39m\n\u001b[1;32m    581\u001b[0m     )\n",
      "\u001b[0;31mValueError\u001b[0m: Length of values (10) does not match length of index (4)"
     ]
    }
   ],
   "source": [
    "a=np.arange(10)\n",
    "b=pd.Series(a,index=['k1', 3, 2, 'j'])\n",
    "b#报错，index与data不匹配"
   ]
  },
  {
   "cell_type": "markdown",
   "metadata": {},
   "source": [
    "广播机制"
   ]
  },
  {
   "cell_type": "code",
   "execution_count": 6,
   "metadata": {},
   "outputs": [
    {
     "ename": "ValueError",
     "evalue": "Length of values (4) does not match length of index (1)",
     "output_type": "error",
     "traceback": [
      "\u001b[0;31m---------------------------------------------------------------------------\u001b[0m",
      "\u001b[0;31mValueError\u001b[0m                                Traceback (most recent call last)",
      "Cell \u001b[0;32mIn[6], line 1\u001b[0m\n\u001b[0;32m----> 1\u001b[0m b1\u001b[39m=\u001b[39mpd\u001b[39m.\u001b[39;49mSeries([\u001b[39m'\u001b[39;49m\u001b[39mk1\u001b[39;49m\u001b[39m'\u001b[39;49m, \u001b[39m3\u001b[39;49m, \u001b[39m2\u001b[39;49m, \u001b[39m'\u001b[39;49m\u001b[39mj\u001b[39;49m\u001b[39m'\u001b[39;49m],index \u001b[39m=\u001b[39;49m [\u001b[39m'\u001b[39;49m\u001b[39mk1\u001b[39;49m\u001b[39m'\u001b[39;49m])\n\u001b[1;32m      2\u001b[0m b1\n",
      "File \u001b[0;32m/Library/Frameworks/Python.framework/Versions/3.10/lib/python3.10/site-packages/pandas/core/series.py:500\u001b[0m, in \u001b[0;36mSeries.__init__\u001b[0;34m(self, data, index, dtype, name, copy, fastpath)\u001b[0m\n\u001b[1;32m    498\u001b[0m     index \u001b[39m=\u001b[39m default_index(\u001b[39mlen\u001b[39m(data))\n\u001b[1;32m    499\u001b[0m \u001b[39melif\u001b[39;00m is_list_like(data):\n\u001b[0;32m--> 500\u001b[0m     com\u001b[39m.\u001b[39;49mrequire_length_match(data, index)\n\u001b[1;32m    502\u001b[0m \u001b[39m# create/copy the manager\u001b[39;00m\n\u001b[1;32m    503\u001b[0m \u001b[39mif\u001b[39;00m \u001b[39misinstance\u001b[39m(data, (SingleBlockManager, SingleArrayManager)):\n",
      "File \u001b[0;32m/Library/Frameworks/Python.framework/Versions/3.10/lib/python3.10/site-packages/pandas/core/common.py:576\u001b[0m, in \u001b[0;36mrequire_length_match\u001b[0;34m(data, index)\u001b[0m\n\u001b[1;32m    572\u001b[0m \u001b[39m\"\"\"\u001b[39;00m\n\u001b[1;32m    573\u001b[0m \u001b[39mCheck the length of data matches the length of the index.\u001b[39;00m\n\u001b[1;32m    574\u001b[0m \u001b[39m\"\"\"\u001b[39;00m\n\u001b[1;32m    575\u001b[0m \u001b[39mif\u001b[39;00m \u001b[39mlen\u001b[39m(data) \u001b[39m!=\u001b[39m \u001b[39mlen\u001b[39m(index):\n\u001b[0;32m--> 576\u001b[0m     \u001b[39mraise\u001b[39;00m \u001b[39mValueError\u001b[39;00m(\n\u001b[1;32m    577\u001b[0m         \u001b[39m\"\u001b[39m\u001b[39mLength of values \u001b[39m\u001b[39m\"\u001b[39m\n\u001b[1;32m    578\u001b[0m         \u001b[39mf\u001b[39m\u001b[39m\"\u001b[39m\u001b[39m(\u001b[39m\u001b[39m{\u001b[39;00m\u001b[39mlen\u001b[39m(data)\u001b[39m}\u001b[39;00m\u001b[39m) \u001b[39m\u001b[39m\"\u001b[39m\n\u001b[1;32m    579\u001b[0m         \u001b[39m\"\u001b[39m\u001b[39mdoes not match length of index \u001b[39m\u001b[39m\"\u001b[39m\n\u001b[1;32m    580\u001b[0m         \u001b[39mf\u001b[39m\u001b[39m\"\u001b[39m\u001b[39m(\u001b[39m\u001b[39m{\u001b[39;00m\u001b[39mlen\u001b[39m(index)\u001b[39m}\u001b[39;00m\u001b[39m)\u001b[39m\u001b[39m\"\u001b[39m\n\u001b[1;32m    581\u001b[0m     )\n",
      "\u001b[0;31mValueError\u001b[0m: Length of values (4) does not match length of index (1)"
     ]
    }
   ],
   "source": [
    "b1=pd.Series(5,index = ['k1', 3, 2, 'j'])\n",
    "b1"
   ]
  },
  {
   "cell_type": "markdown",
   "metadata": {},
   "source": [
    "#### 数据访问"
   ]
  },
  {
   "cell_type": "markdown",
   "metadata": {},
   "source": [
    "##### 标签索引\n",
    "如果标签中有整数类型，则索引为先标签索引，后位置索引\n",
    "\n",
    "没有整数类型的标签则使用位置索引"
   ]
  },
  {
   "cell_type": "code",
   "execution_count": null,
   "metadata": {},
   "outputs": [],
   "source": [
    "sites = {'k1': \"Google\", 'k2': \"Runoob\", 3: \"Wiki\", 'k4': \"Runoob\"}\n",
    "myvar = pd.Series(sites, index = ['k1', 3, 'j'])\n",
    "myvar"
   ]
  },
  {
   "cell_type": "code",
   "execution_count": null,
   "metadata": {},
   "outputs": [],
   "source": [
    "myvar[3]"
   ]
  },
  {
   "cell_type": "code",
   "execution_count": null,
   "metadata": {},
   "outputs": [],
   "source": [
    "myvar[0]#报错。如果标签中有整数类型，则索引为先标签，后位置索引"
   ]
  },
  {
   "cell_type": "code",
   "execution_count": null,
   "metadata": {},
   "outputs": [],
   "source": [
    "sites = {'k1': \"Google\", 'k2': \"Runoob\", 'z': \"Wiki\",'k4': \"Runoob\",2.3:8}\n",
    "myvar = pd.Series(sites)\n",
    "myvar"
   ]
  },
  {
   "cell_type": "markdown",
   "metadata": {},
   "source": [
    "标签中有浮点型数据，无法使用标签索引"
   ]
  },
  {
   "cell_type": "code",
   "execution_count": null,
   "metadata": {},
   "outputs": [],
   "source": [
    "myvar[2.3]#报错"
   ]
  },
  {
   "cell_type": "code",
   "execution_count": null,
   "metadata": {},
   "outputs": [],
   "source": [
    "myvar[4]"
   ]
  },
  {
   "cell_type": "markdown",
   "metadata": {},
   "source": [
    "##### 索引多个数据，使用列表"
   ]
  },
  {
   "cell_type": "code",
   "execution_count": null,
   "metadata": {},
   "outputs": [],
   "source": [
    "sites = {'k1': \"Google\", 'k2': \"Runoob\", 3: \"Wiki\", 'k4': \"Runoob\"}\n",
    "myvar = pd.Series(sites)\n",
    "myvar[['k1','k2']]"
   ]
  },
  {
   "cell_type": "markdown",
   "metadata": {},
   "source": [
    "##### 布尔索引"
   ]
  },
  {
   "cell_type": "code",
   "execution_count": null,
   "metadata": {},
   "outputs": [],
   "source": [
    "a=np.arange(10)\n",
    "b=pd.Series(a)\n",
    "b"
   ]
  },
  {
   "cell_type": "code",
   "execution_count": null,
   "metadata": {},
   "outputs": [],
   "source": [
    "b[b>=5]"
   ]
  },
  {
   "cell_type": "markdown",
   "metadata": {},
   "source": [
    "##### 普通切片\n",
    "即使标签中有整数类型，切片也使用位置索引"
   ]
  },
  {
   "cell_type": "code",
   "execution_count": null,
   "metadata": {},
   "outputs": [],
   "source": [
    "a=np.arange(10)\n",
    "b=pd.Series(a)\n",
    "b"
   ]
  },
  {
   "cell_type": "code",
   "execution_count": null,
   "metadata": {},
   "outputs": [],
   "source": [
    "b[1:9:2]"
   ]
  },
  {
   "cell_type": "code",
   "execution_count": null,
   "metadata": {},
   "outputs": [],
   "source": [
    "b[::-1]"
   ]
  },
  {
   "cell_type": "code",
   "execution_count": null,
   "metadata": {},
   "outputs": [],
   "source": [
    "b[-5:-1]"
   ]
  },
  {
   "cell_type": "code",
   "execution_count": null,
   "metadata": {},
   "outputs": [],
   "source": [
    "b[[2,5,7]]"
   ]
  },
  {
   "cell_type": "markdown",
   "metadata": {},
   "source": [
    "##### 标签切片\n",
    "标签切片包含右端点。此时不能再使用位置索引，标签端点不能有数值"
   ]
  },
  {
   "cell_type": "code",
   "execution_count": null,
   "metadata": {},
   "outputs": [],
   "source": [
    "a=np.arange(10)\n",
    "b=pd.Series(a,index=['c','j','k','d','s','l',3,'e','i','f'])\n",
    "b"
   ]
  },
  {
   "cell_type": "code",
   "execution_count": null,
   "metadata": {},
   "outputs": [],
   "source": [
    "b['s':'f']"
   ]
  },
  {
   "cell_type": "code",
   "execution_count": null,
   "metadata": {},
   "outputs": [],
   "source": [
    "b['s':3]#报错"
   ]
  },
  {
   "cell_type": "markdown",
   "metadata": {},
   "source": [
    "#### 属性\n",
    "类比Series\n",
    "\n",
    "index：索引值。可迭代\n",
    "\n",
    "name：DataFrame中的每一列都是一个Series，这个列名就是name\n",
    "\n",
    "values：可迭代\n",
    "\n",
    "array：返回一个pandasarray\n",
    "\n",
    "dtype\n",
    "\n",
    "shape\n",
    "\n",
    "size\n",
    "\n",
    "hasnans：是否有nan，有则为True\n",
    "\n",
    "is_monotonic：是否单调递增，是则为True"
   ]
  },
  {
   "cell_type": "code",
   "execution_count": null,
   "metadata": {},
   "outputs": [],
   "source": [
    "a=np.arange(10)\n",
    "b=pd.Series(a)\n",
    "b.index=np.ones(10)\n",
    "b[1]"
   ]
  },
  {
   "cell_type": "code",
   "execution_count": null,
   "metadata": {},
   "outputs": [],
   "source": [
    "a=pd.Series({'key1':10,'key2':67},name='myseries')\n",
    "a.index.name='index'\n",
    "a"
   ]
  },
  {
   "cell_type": "code",
   "execution_count": null,
   "metadata": {},
   "outputs": [],
   "source": [
    "for i in a:\n",
    "    print(i)\n",
    "for i in a.index:\n",
    "    print(i)\n",
    "for i in a.values:\n",
    "    print(i)"
   ]
  },
  {
   "cell_type": "markdown",
   "metadata": {},
   "source": [
    "#### 操作"
   ]
  },
  {
   "cell_type": "markdown",
   "metadata": {},
   "source": [
    "##### 查看前几个数据\n",
    "head()"
   ]
  },
  {
   "cell_type": "markdown",
   "metadata": {},
   "source": [
    "##### 查看后几个数据\n",
    "tail()"
   ]
  },
  {
   "cell_type": "markdown",
   "metadata": {},
   "source": [
    "##### 重新索引\n",
    "reindex(indexs,fill_value)\n",
    "\n",
    "传参indexs为索引\n",
    "\n",
    "若传入的indexs长度大于原Series则用fill_value填充"
   ]
  },
  {
   "cell_type": "code",
   "execution_count": null,
   "metadata": {},
   "outputs": [],
   "source": [
    "s=pd.Series(np.random.rand(5),index=list('abcde'))\n",
    "s"
   ]
  },
  {
   "cell_type": "code",
   "execution_count": null,
   "metadata": {},
   "outputs": [],
   "source": [
    "s1=s.reindex(list('cdefg'))\n",
    "s1#和字典创建时的效果相同，有则取值，无则nan"
   ]
  },
  {
   "cell_type": "markdown",
   "metadata": {},
   "source": [
    "##### 对齐运算\n",
    "对应索引相同的值相加，没有对应值为nan"
   ]
  },
  {
   "cell_type": "code",
   "execution_count": null,
   "metadata": {},
   "outputs": [],
   "source": [
    "s1=pd.Series(np.random.rand(5),index=list('abcde'))\n",
    "s2=pd.Series(np.random.rand(5),index=list('egdjk'))"
   ]
  },
  {
   "cell_type": "code",
   "execution_count": null,
   "metadata": {},
   "outputs": [],
   "source": [
    "s1"
   ]
  },
  {
   "cell_type": "code",
   "execution_count": null,
   "metadata": {},
   "outputs": [],
   "source": [
    "s2"
   ]
  },
  {
   "cell_type": "code",
   "execution_count": null,
   "metadata": {},
   "outputs": [],
   "source": [
    "s1+s2"
   ]
  },
  {
   "cell_type": "markdown",
   "metadata": {},
   "source": [
    "##### 增删改"
   ]
  },
  {
   "cell_type": "code",
   "execution_count": null,
   "metadata": {},
   "outputs": [],
   "source": [
    "s=pd.Series(np.random.rand(5),index=list('abcde'))\n",
    "s"
   ]
  },
  {
   "cell_type": "markdown",
   "metadata": {},
   "source": [
    "###### 增/改\n",
    "有则修改，无则增加"
   ]
  },
  {
   "cell_type": "code",
   "execution_count": null,
   "metadata": {},
   "outputs": [],
   "source": [
    "s['p']=90\n",
    "s"
   ]
  },
  {
   "cell_type": "markdown",
   "metadata": {},
   "source": [
    "###### 删\n",
    "drop(label,inplace=False)删除标签label及其对应值，返回一个新Series。\n",
    "\n",
    "若需要在原数据上修改，inplace=True"
   ]
  },
  {
   "cell_type": "markdown",
   "metadata": {},
   "source": [
    "##### 缺失值处理\n",
    "isnull()/isna()/notna()/notnull检测\n",
    "\n",
    "backfill()/bfill()/ffill()用前面后面的值填充\n",
    "\n",
    "fillna()指定填充方法\n",
    "\n",
    "dropna()删除\n",
    "\n",
    "interpolate()插值填充\n",
    "\n",
    "replace()替换"
   ]
  },
  {
   "cell_type": "markdown",
   "metadata": {},
   "source": [
    "##### s.apply(func,convert_dtype=True)\n",
    "将s中每个元素依次作为参数调用func，将得到的结果生成一个新的Series并返回，标签保留"
   ]
  },
  {
   "cell_type": "markdown",
   "metadata": {},
   "source": [
    "##### s.agg([statistics_funcs])\n",
    "返回一个Series，各元素分别是原Series对统计函数的调用结果"
   ]
  },
  {
   "cell_type": "markdown",
   "metadata": {},
   "source": [
    "##### s.map(func)\n",
    "将s逐元素调用func，并返回"
   ]
  },
  {
   "cell_type": "markdown",
   "metadata": {},
   "source": [
    "##### s.groupby(by=None,axis=0,level=None,sort=True,group_keys=True,dropna=True)\n",
    "分组聚合"
   ]
  },
  {
   "cell_type": "code",
   "execution_count": null,
   "metadata": {},
   "outputs": [],
   "source": [
    "s=pd.Series(np.random.rand(5),index=list('aacdd'))\n",
    "s"
   ]
  },
  {
   "cell_type": "code",
   "execution_count": null,
   "metadata": {},
   "outputs": [],
   "source": [
    "s.groupby([\"m\",\"n\",\"m\",\"n\",\"m\"]).mean()"
   ]
  },
  {
   "cell_type": "code",
   "execution_count": null,
   "metadata": {},
   "outputs": [],
   "source": [
    "s.groupby(level=0).mean()"
   ]
  },
  {
   "cell_type": "code",
   "execution_count": null,
   "metadata": {},
   "outputs": [],
   "source": [
    "s.groupby(s>0.5).mean()"
   ]
  },
  {
   "cell_type": "markdown",
   "metadata": {},
   "source": [
    "##### s.describe()"
   ]
  },
  {
   "cell_type": "code",
   "execution_count": null,
   "metadata": {},
   "outputs": [],
   "source": [
    "s=pd.Series(np.random.randn(1000000))\n",
    "s"
   ]
  },
  {
   "cell_type": "code",
   "execution_count": null,
   "metadata": {},
   "outputs": [],
   "source": [
    "s.describe()"
   ]
  },
  {
   "cell_type": "markdown",
   "metadata": {},
   "source": [
    "##### s.value_counts()\n",
    "统计元素出现次数"
   ]
  },
  {
   "cell_type": "markdown",
   "metadata": {},
   "source": [
    "### DataFrame"
   ]
  },
  {
   "cell_type": "markdown",
   "metadata": {},
   "source": [
    "#### 定义\n",
    "二维数据，升级版二维数组，索引两个维度都可以更改\n",
    "\n",
    "特点：\n",
    "\n",
    "1、不同列可以是不同的类型\n",
    "\n",
    "2、大小可变\n",
    "\n",
    "3、标记轴（行和列）\n",
    "\n",
    "4、针对行与列进行轴向统计"
   ]
  },
  {
   "cell_type": "markdown",
   "metadata": {},
   "source": [
    "#### 创建\n",
    "pd.DataFrame(data=None,index=None,columns=None,dtype=None,copy=False)"
   ]
  },
  {
   "cell_type": "markdown",
   "metadata": {},
   "source": [
    "##### 列表创建"
   ]
  },
  {
   "cell_type": "code",
   "execution_count": null,
   "metadata": {},
   "outputs": [],
   "source": [
    "data= pd.DataFrame([[1,3,4,14,1],[5,2,25,32,0],[3,24,41,7,1],[4,34,7,98,0],[2,1,34,351,0],[8,5,791,56,1],[4,22,35,74,0]],columns=['A','B','C','D','y'])\n",
    "data"
   ]
  },
  {
   "cell_type": "markdown",
   "metadata": {},
   "source": [
    "##### 数组创建"
   ]
  },
  {
   "cell_type": "code",
   "execution_count": null,
   "metadata": {},
   "outputs": [],
   "source": [
    "c=np.arange(20).reshape((4,5))\n",
    "c"
   ]
  },
  {
   "cell_type": "code",
   "execution_count": null,
   "metadata": {},
   "outputs": [],
   "source": [
    "data=pd.DataFrame(c,index=list('abcd'),columns=list('mnpqr'))\n",
    "data"
   ]
  },
  {
   "cell_type": "markdown",
   "metadata": {},
   "source": [
    "##### 字典创建"
   ]
  },
  {
   "cell_type": "code",
   "execution_count": null,
   "metadata": {},
   "outputs": [],
   "source": [
    "d={f'k{i}':[i+j**2+1 for j in range(6)] for i in range(4)}\n",
    "d"
   ]
  },
  {
   "cell_type": "code",
   "execution_count": null,
   "metadata": {},
   "outputs": [],
   "source": [
    "data=pd.DataFrame(d)\n",
    "data"
   ]
  },
  {
   "cell_type": "code",
   "execution_count": null,
   "metadata": {},
   "outputs": [],
   "source": [
    "data.columns=[f'kk{i}' for i in range(4)]"
   ]
  },
  {
   "cell_type": "code",
   "execution_count": null,
   "metadata": {},
   "outputs": [],
   "source": [
    "data"
   ]
  },
  {
   "cell_type": "markdown",
   "metadata": {},
   "source": [
    "注意：如果字典的value只有一个数据，则需指定index"
   ]
  },
  {
   "cell_type": "code",
   "execution_count": null,
   "metadata": {},
   "outputs": [],
   "source": [
    "d={f'k{i}':i**2+1 for i in range(4)}"
   ]
  },
  {
   "cell_type": "code",
   "execution_count": null,
   "metadata": {},
   "outputs": [],
   "source": [
    "data=pd.DataFrame(d)#报错"
   ]
  },
  {
   "cell_type": "markdown",
   "metadata": {},
   "source": [
    "解决1，利用列表自身带有的索引"
   ]
  },
  {
   "cell_type": "code",
   "execution_count": null,
   "metadata": {},
   "outputs": [],
   "source": [
    "d={f'k{i}':[i**2+1] for i in range(4)}\n",
    "data=pd.DataFrame(d)\n",
    "data"
   ]
  },
  {
   "cell_type": "markdown",
   "metadata": {},
   "source": [
    "解决2，通过index指定"
   ]
  },
  {
   "cell_type": "code",
   "execution_count": null,
   "metadata": {},
   "outputs": [],
   "source": [
    "d={f'k{i}':i**2+1 for i in range(4)}\n",
    "data=pd.DataFrame(d,index=[0])\n",
    "data"
   ]
  },
  {
   "cell_type": "markdown",
   "metadata": {},
   "source": [
    "##### 列表嵌套字典创建\n",
    "注意不匹配的地方填入nan，然后有数值的地方自动类型转换为float"
   ]
  },
  {
   "cell_type": "code",
   "execution_count": null,
   "metadata": {},
   "outputs": [],
   "source": [
    "d1={f'k{i}':i**2+1 for i in range(4)}\n",
    "d2={f'k{i}':i**2+2 for i in range(2,6)}\n",
    "d=[d1,d2]\n",
    "d"
   ]
  },
  {
   "cell_type": "code",
   "execution_count": null,
   "metadata": {},
   "outputs": [],
   "source": [
    "data=pd.DataFrame(d)\n",
    "data"
   ]
  },
  {
   "cell_type": "markdown",
   "metadata": {},
   "source": [
    "##### 字典嵌套Series创建"
   ]
  },
  {
   "cell_type": "code",
   "execution_count": null,
   "metadata": {},
   "outputs": [],
   "source": [
    "d={'k2':pd.Series([j**2+1 for j in range(6)],index=[f'k{i}' for i in range(3,9)]),'k1':pd.Series([j**2+1 for j in range(6)],index=[f'k{i}' for i in range(6)])}\n",
    "d"
   ]
  },
  {
   "cell_type": "code",
   "execution_count": null,
   "metadata": {},
   "outputs": [],
   "source": [
    "data=pd.DataFrame(d)\n",
    "data"
   ]
  },
  {
   "cell_type": "markdown",
   "metadata": {},
   "source": [
    "#### 常用属性\n",
    "T：转置的DataFrame\n",
    "\n",
    "index：行标签，可迭代对象\n",
    "\n",
    "columns：列标签，可迭代对象\n",
    "\n",
    "dtypes：各列数据类型\n",
    "\n",
    "values：使用ndarray表示DataFrame中的元素值\n",
    "\n",
    "axes：一个由行标签、列标签组成的列表，相当于[D.index,D.columns]\n",
    "\n",
    "shape：元组\n",
    "\n",
    "size：元素数量\n",
    "\n",
    "ndim\n",
    "\n",
    "empty：判断是否为空，空则为True"
   ]
  },
  {
   "cell_type": "code",
   "execution_count": null,
   "metadata": {
    "scrolled": true
   },
   "outputs": [],
   "source": [
    "d = pd.read_csv(r'E:\\pythonprogect\\2training\\sci_train-master_later\\Data\\data_map_original\\credit2_for_update.csv')\n",
    "d"
   ]
  },
  {
   "cell_type": "code",
   "execution_count": null,
   "metadata": {},
   "outputs": [],
   "source": [
    "data.info()"
   ]
  },
  {
   "cell_type": "code",
   "execution_count": null,
   "metadata": {},
   "outputs": [],
   "source": [
    "d.values"
   ]
  },
  {
   "cell_type": "code",
   "execution_count": null,
   "metadata": {
    "scrolled": true
   },
   "outputs": [],
   "source": [
    "if not d:#如果不为空则输出\n",
    "    print(d)#报错"
   ]
  },
  {
   "cell_type": "code",
   "execution_count": null,
   "metadata": {
    "scrolled": true
   },
   "outputs": [],
   "source": [
    "if not d.empty:#如果不为空则输出\n",
    "    print(d)"
   ]
  },
  {
   "cell_type": "markdown",
   "metadata": {},
   "source": [
    "#### 常用方法\n",
    "head()\n",
    "\n",
    "tail()\n",
    "\n",
    "rename()：比如rename(columns=[])是修改列名，还有参数index、inplace\n",
    "\n",
    "info():数据类型，n条数据，索引，按列给出列名、非空值数量、数据类型、占用内存等\n",
    "\n",
    "sort_index(axis=0,ascending=True,inplace=False)：默认根据行标签对所有行排序，或者根据列标签对所有列排序，或根据指定的某几列对行排序，这都是对标签进行的操作，与数据没有关系。\n",
    "\n",
    "sort_values(by,axis=0,ascending=True,inplace=False,kind='quicksort',na_position='last')：根据行数据行排序，或者根据列数据排序。由by指定排序标签列表，多列时ascending也是列表；由axis指定轴。\n",
    "\n",
    "D.astype()将dtype转换为指定的dtype\n",
    "\n",
    "D.convert_dtypes()将原数据中千奇百怪的数据转换为最佳类型以方便操作，比如将NaN转化为\n",
    "\n",
    "D.info_objects()将object的数据转换为最佳数据类型\n",
    "\n",
    "D.where(condition,other=nan,inplace=False,axis=0)将不满足condition的数值替换为other。mask()是将满足condition的数据转换\n",
    "\n",
    "D.apply(func_name)传递给函数的对象是Series对象，其索引是DataFrame的索引(axis=0)或列( axis=1)。默认情况下(result_type=None),最终返回类型是从应用函数的返回类型推断出来的。否则，它取决于result_type参数。\n",
    "\n",
    "D.applymap(func_name)整体映射，此方法应用一个函数，该函数接受并向 DataFrame的每个元素返回一个标量。\n",
    "\n",
    "D.set_index([])传入列名key，或可作为列的数据，设置为索引\n",
    "\n",
    "注意Series中有map，DataFrame中是applymap，二者都有apply，不要混淆，方法用错或报错"
   ]
  },
  {
   "cell_type": "code",
   "execution_count": null,
   "metadata": {},
   "outputs": [],
   "source": [
    "d={f'k{i+1}':[i**3+j**2+1 for j in range(7)] for i in range(8)}\n",
    "ind=[f'r{i+1}' for i in range(7)]\n",
    "data=pd.DataFrame(d,index=ind)\n",
    "data"
   ]
  },
  {
   "cell_type": "code",
   "execution_count": null,
   "metadata": {},
   "outputs": [],
   "source": [
    "def func(i):\n",
    "    if i>20:\n",
    "        return i\n",
    "    else:\n",
    "        return 20"
   ]
  },
  {
   "cell_type": "code",
   "execution_count": null,
   "metadata": {},
   "outputs": [],
   "source": [
    "def func0(x):\n",
    "    my_list=list(range(len(x)))\n",
    "    return my_list"
   ]
  },
  {
   "cell_type": "code",
   "execution_count": null,
   "metadata": {},
   "outputs": [],
   "source": [
    "data.apply(func0)\n",
    "#'The truth value of a Series is ambiguous. Use a.empty, a.bool(), a.item(), a.any() or a.all().', 'occurred at index k1'"
   ]
  },
  {
   "cell_type": "code",
   "execution_count": null,
   "metadata": {},
   "outputs": [],
   "source": [
    "data['k3'].apply(func)"
   ]
  },
  {
   "cell_type": "code",
   "execution_count": null,
   "metadata": {},
   "outputs": [],
   "source": [
    "data['k3']**2"
   ]
  },
  {
   "cell_type": "code",
   "execution_count": null,
   "metadata": {},
   "outputs": [],
   "source": [
    "data.applymap(func)"
   ]
  },
  {
   "cell_type": "markdown",
   "metadata": {},
   "source": [
    "#### 数据访问\n"
   ]
  },
  {
   "cell_type": "code",
   "execution_count": null,
   "metadata": {},
   "outputs": [],
   "source": [
    "d={f'k{i+1}':[i**3+j**2+1 for j in range(7)] for i in range(8)}\n",
    "ind=[f'r{i+1}' for i in range(7)]\n",
    "data=pd.DataFrame(d,index=ind)\n",
    "data"
   ]
  },
  {
   "cell_type": "markdown",
   "metadata": {},
   "source": [
    "##### D.at()/D.iat()\n",
    "定位单个数据，输入行和列索引，at用标签索引，iat用位置索引"
   ]
  },
  {
   "cell_type": "markdown",
   "metadata": {},
   "source": [
    "##### 列\n",
    "不能使用列切片，列之间是为无序的，因此也不能使用位置索引。\n",
    "\n",
    "但可以使用标签列表访问多列。\n",
    "\n",
    "获取某一列得到一个Series"
   ]
  },
  {
   "cell_type": "code",
   "execution_count": null,
   "metadata": {},
   "outputs": [],
   "source": [
    "data.k1"
   ]
  },
  {
   "cell_type": "code",
   "execution_count": null,
   "metadata": {},
   "outputs": [],
   "source": [
    "type(data['k1'])"
   ]
  },
  {
   "cell_type": "code",
   "execution_count": null,
   "metadata": {},
   "outputs": [],
   "source": [
    "data[('k1','k2')]#报错"
   ]
  },
  {
   "cell_type": "code",
   "execution_count": null,
   "metadata": {},
   "outputs": [],
   "source": [
    "type(data[['k1','k2']])"
   ]
  },
  {
   "cell_type": "markdown",
   "metadata": {},
   "source": [
    "注意属性index和columns的返回值为可迭代对象，因此可以把它作为索引"
   ]
  },
  {
   "cell_type": "code",
   "execution_count": null,
   "metadata": {},
   "outputs": [],
   "source": [
    "data.columns[0:3]#类似于列表[k1,k2,k3]"
   ]
  },
  {
   "cell_type": "code",
   "execution_count": null,
   "metadata": {},
   "outputs": [],
   "source": [
    "data[data.columns[0:3]]"
   ]
  },
  {
   "cell_type": "markdown",
   "metadata": {},
   "source": [
    "##### 行\n",
    "D['k']只能用于取列数据，取行可以切片操作，但是不能用data[1],data[[1,2]]等操作\n",
    "\n",
    "访问方法：\n",
    "\n",
    "函数\n",
    "\n",
    "loc[r]/loc[r,c]：index取行\n",
    "\n",
    "iloc[r]/iloc[r,c]：位置取行\n",
    "\n",
    "这两个函数也都支持切片"
   ]
  },
  {
   "cell_type": "code",
   "execution_count": null,
   "metadata": {},
   "outputs": [],
   "source": [
    "data[0:3]"
   ]
  },
  {
   "cell_type": "code",
   "execution_count": null,
   "metadata": {},
   "outputs": [],
   "source": [
    "data['r1':'r4']"
   ]
  },
  {
   "cell_type": "code",
   "execution_count": null,
   "metadata": {},
   "outputs": [],
   "source": [
    "data[1:2]#取一行"
   ]
  },
  {
   "cell_type": "code",
   "execution_count": null,
   "metadata": {},
   "outputs": [],
   "source": [
    "data.loc[['r1','r4'],'k4':'k8']"
   ]
  },
  {
   "cell_type": "code",
   "execution_count": null,
   "metadata": {},
   "outputs": [],
   "source": [
    "data.iloc[1:3,7:9]"
   ]
  },
  {
   "cell_type": "markdown",
   "metadata": {},
   "source": [
    "##### 增/改\n",
    "修改就是直接提取数据（访问），使用赋值号修改"
   ]
  },
  {
   "cell_type": "markdown",
   "metadata": {},
   "source": [
    "###### 追加列\n",
    "类似字典，有则改之，无则添加\n",
    "\n",
    "但是毕竟是追加，无法超越原有DataFrame结构，没有对应的行索引则补充NaN"
   ]
  },
  {
   "cell_type": "code",
   "execution_count": null,
   "metadata": {},
   "outputs": [],
   "source": [
    "data['k9']=1#广播机制\n",
    "data"
   ]
  },
  {
   "cell_type": "code",
   "execution_count": null,
   "metadata": {},
   "outputs": [],
   "source": [
    "data['k10']=pd.Series([j**2+1 for j in range(6)],index=[f'k{i}' for i in range(3,9)])\n",
    "data"
   ]
  },
  {
   "cell_type": "markdown",
   "metadata": {},
   "source": [
    "###### 插入列\n",
    "D.insert(position,columns,value,allow_duplicates=True)\n",
    "\n",
    "同样无法超越原有DataFrame结构，没有对应的行索引则补充NaN"
   ]
  },
  {
   "cell_type": "code",
   "execution_count": null,
   "metadata": {},
   "outputs": [],
   "source": [
    "data"
   ]
  },
  {
   "cell_type": "code",
   "execution_count": null,
   "metadata": {},
   "outputs": [],
   "source": [
    "d=pd.Series([j**2+1 for j in range(6)],index=[f'k{i}' for i in range(3,9)])\n",
    "data.insert(2,'k1.5',d)\n",
    "data"
   ]
  },
  {
   "cell_type": "markdown",
   "metadata": {},
   "source": [
    "###### 添加行\n",
    "D.append(obj,ignore_index=False,verify_integrity=False,sort=False)\n",
    "\n",
    "obj：添加内容，DataFrame、Series、list、dict等\n",
    "\n",
    "ignore_index：True则标记轴为0,1,...n-1，仅当追加内容有index时，即参数为True或追加数据有name才能追加\n",
    "\n",
    "verify_integrity：True则在创建具有重复索引时报错\n",
    "\n",
    "sort\n",
    "\n",
    "追加内容是一个列表时比较特殊，下面说明"
   ]
  },
  {
   "cell_type": "code",
   "execution_count": null,
   "metadata": {
    "scrolled": true
   },
   "outputs": [],
   "source": [
    "d={f'k{i+1}':[i**3+j**2+1 for j in range(7)] for i in range(8)}\n",
    "ind=[f'r{i+1}' for i in range(7)]\n",
    "data=pd.DataFrame(d,index=ind)\n",
    "data"
   ]
  },
  {
   "cell_type": "markdown",
   "metadata": {},
   "source": [
    "列表添加时每个元素作为一行，即：\n",
    "\n",
    "一维：添加为列\n",
    "\n",
    "二维：添加为行\n",
    "\n",
    "三维：元素为元组\n",
    "\n",
    "由于列表是有序的，所以可以直接有索引，ignore_index为False时，这个索引就是列表元素的下标。ignore_index为True时根据data原索引推到行索引。"
   ]
  },
  {
   "cell_type": "code",
   "execution_count": null,
   "metadata": {
    "scrolled": true
   },
   "outputs": [],
   "source": [
    "a=[1,2,3,4]\n",
    "data.append(a)"
   ]
  },
  {
   "cell_type": "code",
   "execution_count": null,
   "metadata": {
    "scrolled": true
   },
   "outputs": [],
   "source": [
    "a=[[1,2,3,4,5],[9,8,7,6,5]]\n",
    "a=pd.DataFrame(a)\n",
    "data.append(a)"
   ]
  },
  {
   "cell_type": "code",
   "execution_count": null,
   "metadata": {},
   "outputs": [],
   "source": [
    "d={i:[i**3+j**2+1 for j in range(7)] for i in range(8)}\n",
    "ind=[f'r{i+1}' for i in range(7)]\n",
    "data=pd.DataFrame(d,index=ind)\n",
    "data"
   ]
  },
  {
   "cell_type": "code",
   "execution_count": null,
   "metadata": {},
   "outputs": [],
   "source": [
    "a=[[1,2,3,4,5],[9,8,7,6,5]]\n",
    "data.append(a)"
   ]
  },
  {
   "cell_type": "code",
   "execution_count": null,
   "metadata": {
    "scrolled": true
   },
   "outputs": [],
   "source": [
    "d={i:[i**3+j**2+1 for j in range(7)] for i in range(8)}\n",
    "ind=[i for i in range(7)]\n",
    "data=pd.DataFrame(d,index=ind)\n",
    "data"
   ]
  },
  {
   "cell_type": "code",
   "execution_count": null,
   "metadata": {
    "scrolled": true
   },
   "outputs": [],
   "source": [
    "a=[[1,2,3,4,5],[9,8,7,6,5]]\n",
    "data.append(a)"
   ]
  },
  {
   "cell_type": "code",
   "execution_count": null,
   "metadata": {
    "scrolled": true
   },
   "outputs": [],
   "source": [
    "a=[[1,2,3,4,5],[9,8,7,6,5]]\n",
    "data.append(a,ignore_index=True)"
   ]
  },
  {
   "cell_type": "code",
   "execution_count": null,
   "metadata": {
    "scrolled": true
   },
   "outputs": [],
   "source": [
    "c=[[[1,2,3,4,5],[9,8,7,6,5]],[[1,7,3,33,5],[9,8,7,99,5]]]\n",
    "data.append(c)"
   ]
  },
  {
   "cell_type": "markdown",
   "metadata": {},
   "source": [
    "##### 删\n",
    "del(D[l_labels])输入D[]为想要删除的列，删除列\n",
    "\n",
    "D.pop([l_label])输入想要删除的列索引，返回删除的列\n",
    "\n",
    "D.drop([labels],axis,index=None,columns=None)根据axis选取删除的行（0，默认）或列（1），输入索引列表。或使用index和columns传参来删除行或列。\n",
    "\n",
    "如有重复的行或列索引，则同时删除"
   ]
  },
  {
   "cell_type": "code",
   "execution_count": null,
   "metadata": {},
   "outputs": [],
   "source": [
    "data"
   ]
  },
  {
   "cell_type": "code",
   "execution_count": null,
   "metadata": {},
   "outputs": [],
   "source": [
    "data.drop('r5')"
   ]
  },
  {
   "cell_type": "code",
   "execution_count": null,
   "metadata": {
    "scrolled": true
   },
   "outputs": [],
   "source": [
    "data"
   ]
  },
  {
   "cell_type": "code",
   "execution_count": null,
   "metadata": {
    "scrolled": true
   },
   "outputs": [],
   "source": [
    "data= pd.DataFrame([[1,3,4,14,1],[5,2,25,32,0],[3,24,41,7,1],[4,34,7,98,0],[2,1,34,351,0],[8,5,791,56,1],[4,22,35,74,0]],columns=['A','B','C','y','y'])\n",
    "data"
   ]
  },
  {
   "cell_type": "code",
   "execution_count": null,
   "metadata": {
    "scrolled": true
   },
   "outputs": [],
   "source": [
    "data.pop('y')"
   ]
  },
  {
   "cell_type": "markdown",
   "metadata": {},
   "source": [
    "#### 运算\n",
    "前面看到，DataFrame会自动将行列标签对齐，对行列标签取并集，缺失值为NaN\n",
    "\n",
    "在DataFrame和Series之间操作时默认是在DataFrame列上对齐Series索引，再广播\n",
    "\n",
    "处理时间序列数据时，如果DataFrame索引包含日期则广播将按列进行\n",
    "\n",
    "运算符+-*/%都要符合广播机制要求，然后进行广播。\n",
    "\n",
    "与另一个DataFrame的运算：D.add(),D.sub(),D.mul(),D.div(),D.mod(),D.pow()\n",
    "\n",
    "D.dot(B)矩阵运算\n",
    "\n",
    "D.combine()与另一个DataFrame按列合并"
   ]
  },
  {
   "cell_type": "code",
   "execution_count": null,
   "metadata": {},
   "outputs": [],
   "source": [
    "data= pd.DataFrame([[1,3,4,14,1],[5,2,25,32,0],[3,24,41,7,1],[4,34,7,98,0],[2,1,34,351,0],[8,5,791,56,1],[4,22,35,74,0]],columns=['A','B','C','D','y'])\n",
    "data"
   ]
  },
  {
   "cell_type": "code",
   "execution_count": null,
   "metadata": {
    "scrolled": true
   },
   "outputs": [],
   "source": [
    "data*5+3"
   ]
  },
  {
   "cell_type": "code",
   "execution_count": null,
   "metadata": {},
   "outputs": [],
   "source": [
    "data=data.div(data)\n",
    "data"
   ]
  },
  {
   "cell_type": "markdown",
   "metadata": {},
   "source": [
    "#### 数据清洗\n",
    "1、数据提取，选取需要的特征（列）\n",
    "\n",
    "2、缺失值处理，包括np.nan,None,pd.NA。\n",
    "\n",
    "np.nan特点是不和任何数相等，类型是float，pd.NA为了统一np.nan,None,NaT，所以pd.NA类型不定"
   ]
  },
  {
   "cell_type": "code",
   "execution_count": null,
   "metadata": {},
   "outputs": [],
   "source": [
    "np.nan==np.nan"
   ]
  },
  {
   "cell_type": "code",
   "execution_count": null,
   "metadata": {},
   "outputs": [],
   "source": [
    "type(np.nan)"
   ]
  },
  {
   "cell_type": "code",
   "execution_count": null,
   "metadata": {},
   "outputs": [],
   "source": [
    "type(pd.NA)"
   ]
  },
  {
   "cell_type": "markdown",
   "metadata": {},
   "source": [
    "##### 查看数据情况\n",
    "info()\n",
    "\n",
    "count(target)\n",
    "\n",
    "sum()\n",
    "\n",
    "isnull()/isna()/notnull()/notna()缺失值检测\n",
    "\n",
    "D.value_counts()"
   ]
  },
  {
   "cell_type": "code",
   "execution_count": null,
   "metadata": {},
   "outputs": [],
   "source": [
    "d={f'k{i+1}':[i**3+j**2+1 for j in range(7)] for i in range(8)}\n",
    "ind=[f'r{i+1}' for i in range(7)]\n",
    "data=pd.DataFrame(d,index=ind)\n",
    "a=[[1,2,3,4,5],[9,8,7,6,5]]\n",
    "data=data.append(a)\n",
    "data.info()"
   ]
  },
  {
   "cell_type": "code",
   "execution_count": null,
   "metadata": {},
   "outputs": [],
   "source": [
    "data['k1'].isnull().value_counts()"
   ]
  },
  {
   "cell_type": "code",
   "execution_count": null,
   "metadata": {},
   "outputs": [],
   "source": [
    "data.isnull()['k1'].sum()\n",
    "#sum non-NA cells for each column or row."
   ]
  },
  {
   "cell_type": "code",
   "execution_count": null,
   "metadata": {},
   "outputs": [],
   "source": [
    "data.count()\n",
    "#Count non-NA cells for each column or row."
   ]
  },
  {
   "cell_type": "markdown",
   "metadata": {},
   "source": [
    "##### 重复值检测\n",
    "d.duplicated(subset=None,keep='first'/'last'/False)\n",
    "\n",
    "若有重复，对重复值返回True。subset设置检测列，keep设置保留第几个值，其余的就是True\n",
    "\n",
    "d.duplicated().sum()统计重复行数量"
   ]
  },
  {
   "cell_type": "code",
   "execution_count": null,
   "metadata": {},
   "outputs": [],
   "source": [
    "index=list('abcdefab')\n",
    "data= pd.DataFrame([[1,3,4,14,1],\n",
    "                    [5,2,25,32,0],\n",
    "                    [3,24,41,7,1],\n",
    "                    [4,34,7,98,0],\n",
    "                    [2,1,34,351,0],\n",
    "                    [8,5,791,56,1],\n",
    "                    [4,22,35,74,0],\n",
    "                    [1,3,4,14,1]],\n",
    "                   columns=['A','B','C','D','y'])\n",
    "data"
   ]
  },
  {
   "cell_type": "code",
   "execution_count": null,
   "metadata": {},
   "outputs": [],
   "source": [
    "data.duplicated()"
   ]
  },
  {
   "cell_type": "code",
   "execution_count": null,
   "metadata": {},
   "outputs": [],
   "source": [
    "data[[True,False,True,False,True,False,True,False]]"
   ]
  },
  {
   "cell_type": "code",
   "execution_count": null,
   "metadata": {},
   "outputs": [],
   "source": [
    "data[data.duplicated()]\n",
    "#查询重复行"
   ]
  },
  {
   "cell_type": "code",
   "execution_count": null,
   "metadata": {},
   "outputs": [],
   "source": [
    "data.duplicated(subset=['A','y'])"
   ]
  },
  {
   "cell_type": "markdown",
   "metadata": {},
   "source": [
    "##### 重复值处理\n",
    "D.drop_duplicates(subset,keep,inplace)"
   ]
  },
  {
   "cell_type": "markdown",
   "metadata": {},
   "source": [
    "##### 删除缺失值\n",
    "d.dropna(axis=0,how='any'/'all',thresh=None,subset=None)\n",
    "\n",
    "how：any表示只要有就确实就整个删除，all表示全是缺失值才删除\n",
    "\n",
    "thesh：最少有thesh个非空数据才能保留\n",
    "\n",
    "subset：搜索的列"
   ]
  },
  {
   "cell_type": "code",
   "execution_count": null,
   "metadata": {},
   "outputs": [],
   "source": [
    "d={f'k{i+1}':[i**3+j**2+1 for j in range(7)] for i in range(8)}\n",
    "ind=[f'r{i+1}' for i in range(7)]\n",
    "data=pd.DataFrame(d,index=ind)\n",
    "a=[[1,2,3,4,5],[9,8,7,6,5]]\n",
    "data=data.append(a)\n",
    "data"
   ]
  },
  {
   "cell_type": "code",
   "execution_count": null,
   "metadata": {},
   "outputs": [],
   "source": [
    "data.dropna()"
   ]
  },
  {
   "cell_type": "code",
   "execution_count": null,
   "metadata": {},
   "outputs": [],
   "source": [
    "data.dropna(thresh=8)"
   ]
  },
  {
   "cell_type": "markdown",
   "metadata": {},
   "source": [
    "##### 替换缺失值\n",
    "指定值或插值处理缺失值\n",
    "\n",
    "d.fillna(value=None,method=None/'bfill'/'ffill',axis=0,inplace=False,limit=None)\n",
    "\n",
    "method：若未指定填充值value，则使用前一个值（ffill或pad）或后一个值（bfill）\n",
    "\n",
    "limit：填充最多数量，表示只填充limit个缺失值"
   ]
  },
  {
   "cell_type": "code",
   "execution_count": null,
   "metadata": {},
   "outputs": [],
   "source": [
    "d={f'k{i+1}':[i**3+j**2+1 for j in range(7)] for i in range(8)}\n",
    "ind=[f'r{i+1}' for i in range(7)]\n",
    "data=pd.DataFrame(d,index=ind)\n",
    "a=[[1,2,3,4,5],[9,8,7,6,5]]\n",
    "data=data.append(a)\n",
    "data"
   ]
  },
  {
   "cell_type": "code",
   "execution_count": null,
   "metadata": {},
   "outputs": [],
   "source": [
    "data.fillna(value={'k1':3,'k5':2})"
   ]
  },
  {
   "cell_type": "code",
   "execution_count": null,
   "metadata": {},
   "outputs": [],
   "source": [
    "a=[[1,2,3,4,5],[9,8,7,6,5]]\n",
    "d=pd.DataFrame(a,columns=['k1','k2','k10','k7',2])\n",
    "d"
   ]
  },
  {
   "cell_type": "code",
   "execution_count": null,
   "metadata": {},
   "outputs": [],
   "source": [
    "data.fillna(value=d)"
   ]
  },
  {
   "cell_type": "markdown",
   "metadata": {},
   "source": [
    "##### 异常值检测\n",
    "1、简单统计量分析\n",
    "\n",
    "对变量作统计性分析，找出不合理的数据。常用最大值最小值的区间\n",
    "\n",
    "2、3sigma原则\n",
    "\n",
    "3、箱线图分析\n",
    "\n",
    "处理可以参考缺失值处理，但是有的异常值也不一定“异常”，有时候也反映了数据的一些特点"
   ]
  },
  {
   "cell_type": "markdown",
   "metadata": {},
   "source": [
    "#### 分组聚合\n",
    "d.groupby(by,axis=0,level=0,as_index=True,sort=True,group_keys=True)\n",
    "\n",
    "by：分类依据，是一个列\n",
    "\n",
    "\n",
    "\n",
    "返回一个groupby对象，包含了一般方法，很多其他类的方法也都有，这些方法就是聚合函数"
   ]
  },
  {
   "cell_type": "code",
   "execution_count": null,
   "metadata": {},
   "outputs": [],
   "source": [
    "d={f'k{i+1}':[i+j**2+10 for j in range(15)] for i in range(14)}\n",
    "ind=['r3' for i in range(3)]\n",
    "ind+=['r4' for i in range(4)]\n",
    "ind+=['r6' for i in range(6)]\n",
    "ind+=['r2' for i in range(2)]\n",
    "data=pd.DataFrame(d,index=ind)\n",
    "data"
   ]
  },
  {
   "cell_type": "markdown",
   "metadata": {},
   "source": [
    "##### 普通的方法"
   ]
  },
  {
   "cell_type": "code",
   "execution_count": null,
   "metadata": {},
   "outputs": [],
   "source": [
    "dg=data.groupby(data.index)"
   ]
  },
  {
   "cell_type": "code",
   "execution_count": null,
   "metadata": {},
   "outputs": [],
   "source": [
    "dg.max()"
   ]
  },
  {
   "cell_type": "code",
   "execution_count": null,
   "metadata": {},
   "outputs": [],
   "source": [
    "dg.min()"
   ]
  },
  {
   "cell_type": "code",
   "execution_count": null,
   "metadata": {},
   "outputs": [],
   "source": [
    "dg.agg(['max','min','mean'])"
   ]
  },
  {
   "cell_type": "code",
   "execution_count": null,
   "metadata": {},
   "outputs": [],
   "source": [
    "dg.get_group('r2')"
   ]
  },
  {
   "cell_type": "code",
   "execution_count": null,
   "metadata": {},
   "outputs": [],
   "source": [
    "dg.size()"
   ]
  },
  {
   "cell_type": "code",
   "execution_count": null,
   "metadata": {},
   "outputs": [],
   "source": [
    "df = pd.DataFrame(\n",
    "    {\n",
    "        \"A\": [\"foo\", \"bar\", \"foo\", \"bar\", \"foo\", \"bar\", \"foo\", \"foo\"],\n",
    "        \"B\": [\"one\", \"one\", \"two\", \"three\", \"two\", \"two\", \"one\", \"three\"],\n",
    "        \"C\": np.random.randn(8),\n",
    "        \"D\": np.random.randn(8),\n",
    "    }\n",
    ")\n",
    "df"
   ]
  },
  {
   "cell_type": "code",
   "execution_count": null,
   "metadata": {},
   "outputs": [],
   "source": [
    "grouped = df.groupby([\"A\", \"B\"])\n",
    "grouped.size()"
   ]
  },
  {
   "cell_type": "code",
   "execution_count": null,
   "metadata": {},
   "outputs": [],
   "source": [
    "def get_letter_type(letter):\n",
    "    if letter.lower() in 'aeiou':\n",
    "        return 'vowel'\n",
    "    else:\n",
    "        return 'consonant'\n",
    "\n",
    "\n",
    "grouped = df.groupby(get_letter_type,axis=1)\n",
    "grouped.size()"
   ]
  },
  {
   "cell_type": "code",
   "execution_count": null,
   "metadata": {},
   "outputs": [],
   "source": [
    "dg=data.groupby(data.index)"
   ]
  },
  {
   "cell_type": "code",
   "execution_count": null,
   "metadata": {},
   "outputs": [],
   "source": [
    "company=['A','B','C']\n",
    "c=[company[x] for x in np.random.randint(0,len(company),10)]\n",
    "s=np.random.randint(5,50,10)\n",
    "a=np.random.randint(15,50,10)\n",
    "d=pd.DataFrame({'company':c,'salary':s,'age':a})\n",
    "d"
   ]
  },
  {
   "cell_type": "code",
   "execution_count": null,
   "metadata": {},
   "outputs": [],
   "source": [
    "dg=d.groupby('company')\n",
    "list(dg)"
   ]
  },
  {
   "cell_type": "code",
   "execution_count": null,
   "metadata": {},
   "outputs": [],
   "source": [
    "dg=d.groupby('company')\n",
    "dg.mean()"
   ]
  },
  {
   "cell_type": "code",
   "execution_count": null,
   "metadata": {},
   "outputs": [],
   "source": [
    "dg=d.groupby('company',as_index=False)\n",
    "dg.mean()"
   ]
  },
  {
   "cell_type": "markdown",
   "metadata": {},
   "source": [
    "##### 转换值transform()"
   ]
  },
  {
   "cell_type": "code",
   "execution_count": null,
   "metadata": {},
   "outputs": [],
   "source": [
    "dg.mean()['salary']"
   ]
  },
  {
   "cell_type": "code",
   "execution_count": null,
   "metadata": {},
   "outputs": [],
   "source": [
    "dgd=dg.mean()['salary'].to_dict()\n",
    "dgd"
   ]
  },
  {
   "cell_type": "code",
   "execution_count": null,
   "metadata": {},
   "outputs": [],
   "source": [
    "dt=dg['salary'].transform(max)\n",
    "dt"
   ]
  },
  {
   "cell_type": "markdown",
   "metadata": {},
   "source": [
    "##### map()函数"
   ]
  },
  {
   "cell_type": "code",
   "execution_count": null,
   "metadata": {},
   "outputs": [],
   "source": [
    "dsm=d['company'].map(dgd)\n",
    "d['avg_salary']=dsm\n",
    "d"
   ]
  },
  {
   "cell_type": "code",
   "execution_count": null,
   "metadata": {},
   "outputs": [],
   "source": [
    "d['max']=dt\n",
    "d"
   ]
  },
  {
   "cell_type": "code",
   "execution_count": null,
   "metadata": {},
   "outputs": [],
   "source": [
    "list(dg)"
   ]
  },
  {
   "cell_type": "markdown",
   "metadata": {},
   "source": [
    "##### apply()函数\n",
    "分组数据的每个组作为参数调用apply中的函数，返回一行\n",
    "\n",
    "虽然灵活性高，但是速度慢，尽量使用内置函数"
   ]
  },
  {
   "cell_type": "code",
   "execution_count": null,
   "metadata": {},
   "outputs": [],
   "source": [
    "dg.apply(lambda x:x.iloc[-1])"
   ]
  },
  {
   "cell_type": "markdown",
   "metadata": {},
   "source": [
    "##### agg()"
   ]
  },
  {
   "cell_type": "code",
   "execution_count": null,
   "metadata": {},
   "outputs": [],
   "source": [
    "dg.agg(['mean','max','median'])"
   ]
  },
  {
   "cell_type": "markdown",
   "metadata": {},
   "source": [
    "#### 数据合并\n",
    "为了方便维护，数据经常是分表存储的，所以在数据分析时会需要将两张表合并起来进行处理\n",
    "\n",
    "拼接时需要按照用户信息对应拼接，所以两张表需要有一个共同的识别用户的键（key）,这些键可能叫法不同，比如一边叫id一边叫user_id，但值要能匹配"
   ]
  },
  {
   "cell_type": "markdown",
   "metadata": {},
   "source": [
    "##### merge(data_left,data_right,how:str='inner',on=None,left_on=None,right_on=None,left_index=False,right_index=False)\n",
    "\n",
    "拼接时以data_left为基准，将data_right拼接,拼接依据是on（left_on+right_on）。以inner方式则将不匹配的样本删去（交集），outer则是并集，没有的数据补NA"
   ]
  },
  {
   "cell_type": "code",
   "execution_count": null,
   "metadata": {},
   "outputs": [],
   "source": [
    "company=list('ABACAEA')\n",
    "n=len(company)\n",
    "c=[company[x] for x in np.random.randint(0,len(company),n)]\n",
    "s=np.random.randint(5,50,n)\n",
    "a=np.random.randint(15,50,n)\n",
    "d1=pd.DataFrame({'company1':company,'salary':s})\n",
    "d1"
   ]
  },
  {
   "cell_type": "code",
   "execution_count": null,
   "metadata": {},
   "outputs": [],
   "source": [
    "company=list('ACADA')\n",
    "n=len(company)\n",
    "c=[company[x] for x in np.random.randint(0,len(company),n)]\n",
    "s=np.random.randint(5,50,n)\n",
    "a=np.random.randint(15,50,n)\n",
    "d2=pd.DataFrame({'company':company,'age':a})\n",
    "d2"
   ]
  },
  {
   "cell_type": "code",
   "execution_count": null,
   "metadata": {},
   "outputs": [],
   "source": [
    "d1.merge(d2,left_on=\"company1\",right_on=\"company\")"
   ]
  },
  {
   "cell_type": "code",
   "execution_count": null,
   "metadata": {},
   "outputs": [],
   "source": [
    "pd.merge(d1,d2,on='company',how='outer')"
   ]
  },
  {
   "cell_type": "markdown",
   "metadata": {},
   "source": [
    "##### d1.concat(d2,axis=0,join='inner'/'outer')\n",
    "机械连接"
   ]
  },
  {
   "cell_type": "markdown",
   "metadata": {},
   "source": [
    "#####  d1.append(d2)\n",
    "追加，没有补空值"
   ]
  },
  {
   "cell_type": "markdown",
   "metadata": {},
   "source": [
    "#### 数据透视表\n",
    "功能十分强大\n",
    "\n",
    "pivot_table(data,values=None,index=None,columns=None,aggfunc='mean',fill_value=None,margins=False,dropna=True,margins_name='All')\n",
    "\n",
    "data：数据\n",
    "\n",
    "values：需要计算的数据，如销售额、成绩等\n",
    "\n",
    "index：数据横向维度，可选\n",
    "\n",
    "columns：数据纵向维度，可选\n",
    "\n",
    "aggfunc：显示的统计函数\n",
    "\n",
    "margins：是否显示汇总\n",
    "\n",
    "fill_value、dropna：简单的数据清洗"
   ]
  },
  {
   "cell_type": "markdown",
   "metadata": {},
   "source": [
    "### pandas时间数据处理\n",
    "python标准库在2、3"
   ]
  },
  {
   "cell_type": "markdown",
   "metadata": {},
   "source": [
    "#### pandas 时间戳\n",
    "pd.Timestamp()大多数情况下相当于python的datetime"
   ]
  },
  {
   "cell_type": "markdown",
   "metadata": {},
   "source": [
    "#### pandas时间区间\n",
    "pd.Timedelta()大多数情况下等价于python的timedelta"
   ]
  },
  {
   "cell_type": "markdown",
   "metadata": {},
   "source": [
    "#### pandas时间转换\n",
    "pd.to_datetime(arg=,dayfirst=True,yearfirst=False,utc=None,format=None,unit=None)\n",
    "将文本数据转换为时间戳"
   ]
  },
  {
   "cell_type": "markdown",
   "metadata": {},
   "source": [
    "### pandas字符串处理\n",
    "pandas几乎继承了python中字符串的全部方法，因此可以将pandas对象中含有字符串数据看作字符串，可以批量简单处理。\n",
    "\n",
    "调用：s.str.method()是字符串s调用str的method\n",
    "\n",
    "strip('*')去除字符串两端的'*'，不指定参数去除空内容（空格、换行等）\n",
    "\n",
    "split()以指定符分割\n",
    "\n",
    "cat()以指定符拼接为字符串\n",
    "\n",
    "replace(a,b)用b替换a\n",
    "\n",
    "count(a)统计a出现次数\n",
    "\n",
    "它们都适用于DataFrame对象，逐个元素操作，遇到缺失值直接忽略"
   ]
  },
  {
   "cell_type": "markdown",
   "metadata": {},
   "source": [
    "### pandas简单绘图\n",
    "pandas对象都内置了plot()方法，默认监控列数据，横坐标是索引\n",
    "\n",
    "参数kind；\n",
    "\n",
    "默认是折线图\n",
    "\n",
    "bar/barh柱状图\n",
    "\n",
    "hist直方图\n",
    "\n",
    "kde核密度估计\n",
    "\n",
    "scatter散点图"
   ]
  },
  {
   "cell_type": "code",
   "execution_count": null,
   "metadata": {},
   "outputs": [],
   "source": [
    "import matplotlib.pyplot as plt"
   ]
  },
  {
   "cell_type": "code",
   "execution_count": null,
   "metadata": {},
   "outputs": [],
   "source": [
    "c=3\n",
    "r=10\n",
    "d={f'k{i+1}':np.random.randn(r) for i in range(c)}\n",
    "# ind=[f'r{i+1}' for i in range(r)]\n",
    "data=pd.DataFrame(d)#,index=ind)\n",
    "data"
   ]
  },
  {
   "cell_type": "markdown",
   "metadata": {},
   "source": [
    "#### 折线图"
   ]
  },
  {
   "cell_type": "code",
   "execution_count": null,
   "metadata": {},
   "outputs": [],
   "source": [
    "data.plot()"
   ]
  },
  {
   "cell_type": "markdown",
   "metadata": {},
   "source": [
    "#### 柱状图bar/barh"
   ]
  },
  {
   "cell_type": "code",
   "execution_count": null,
   "metadata": {},
   "outputs": [],
   "source": [
    "data.plot(kind='bar')"
   ]
  },
  {
   "cell_type": "code",
   "execution_count": null,
   "metadata": {},
   "outputs": [],
   "source": [
    "data1=data.T\n",
    "data1"
   ]
  },
  {
   "cell_type": "code",
   "execution_count": null,
   "metadata": {},
   "outputs": [],
   "source": [
    "data1.plot(kind='bar')"
   ]
  },
  {
   "cell_type": "code",
   "execution_count": null,
   "metadata": {},
   "outputs": [],
   "source": [
    "plt.figure(figsize=(20,40))\n",
    "data1.plot(kind='barh')"
   ]
  },
  {
   "cell_type": "markdown",
   "metadata": {},
   "source": [
    "#### 直方图hist\n",
    "bins区间个数\n",
    "\n",
    "normed把频数转换为频率"
   ]
  },
  {
   "cell_type": "code",
   "execution_count": null,
   "metadata": {},
   "outputs": [],
   "source": [
    "data['k1'].plot(kind='hist',bins=20)"
   ]
  },
  {
   "cell_type": "code",
   "execution_count": null,
   "metadata": {},
   "outputs": [],
   "source": [
    "dn=pd.Series(np.random.randn(10000))\n",
    "dn.plot(kind='hist',bins=50)"
   ]
  },
  {
   "cell_type": "code",
   "execution_count": null,
   "metadata": {},
   "outputs": [],
   "source": [
    "dn=pd.Series(np.random.randn(10000))\n",
    "dn.plot(kind='hist',bins=50,density=True)"
   ]
  },
  {
   "cell_type": "markdown",
   "metadata": {},
   "source": [
    "#### 核密度估计kde"
   ]
  },
  {
   "cell_type": "code",
   "execution_count": null,
   "metadata": {},
   "outputs": [],
   "source": [
    "dn=pd.Series(np.random.randn(10000))\n",
    "dn.plot(kind='hist',bins=50,density=True)"
   ]
  },
  {
   "cell_type": "code",
   "execution_count": null,
   "metadata": {},
   "outputs": [],
   "source": [
    "dn.plot(kind='kde')"
   ]
  },
  {
   "cell_type": "code",
   "execution_count": null,
   "metadata": {},
   "outputs": [],
   "source": [
    "dn.plot(kind='hist',bins=50,density=True)\n",
    "dn.plot(kind='kde')"
   ]
  },
  {
   "cell_type": "markdown",
   "metadata": {},
   "source": [
    "#### 散点图"
   ]
  },
  {
   "cell_type": "code",
   "execution_count": null,
   "metadata": {},
   "outputs": [],
   "source": [
    "dn1=pd.Series(np.random.randn(1000))\n",
    "dn2=pd.Series(np.random.randn(1000))\n",
    "d=pd.DataFrame({'A':dn1,'B':dn2})\n",
    "d"
   ]
  },
  {
   "cell_type": "code",
   "execution_count": null,
   "metadata": {},
   "outputs": [],
   "source": [
    "d.plot(kind='scatter',x='A',y='B')"
   ]
  },
  {
   "cell_type": "code",
   "execution_count": null,
   "metadata": {},
   "outputs": [],
   "source": [
    "c=3\n",
    "r=1000\n",
    "d={f'k{i+1}':np.random.randn(r) for i in range(c)}\n",
    "# ind=[f'r{i+1}' for i in range(r)]\n",
    "data=pd.DataFrame(d)#,index=ind)\n",
    "data\n",
    "pd.plotting.scatter_matrix(data)"
   ]
  },
  {
   "cell_type": "markdown",
   "metadata": {},
   "source": [
    "## Python的time模块\n",
    "不涉及时区问题，便于计算\n",
    "\n",
    "转换示意：\n",
    "\n",
    "timestamp<->struct_time<->format_time"
   ]
  },
  {
   "cell_type": "code",
   "execution_count": null,
   "metadata": {},
   "outputs": [],
   "source": [
    "import time"
   ]
  },
  {
   "cell_type": "markdown",
   "metadata": {},
   "source": [
    "### 时间戳timestamp\n",
    "表示从1970年1月1日00:00:00开始按秒计算的偏移量。\n",
    "\n",
    "偏移量：如某日某时到次日此时经过24小时整，换算成秒的86400秒（int）就是偏移量"
   ]
  },
  {
   "cell_type": "code",
   "execution_count": null,
   "metadata": {},
   "outputs": [],
   "source": [
    "t_ts=time.time()#单位：秒\n",
    "t_ts"
   ]
  },
  {
   "cell_type": "markdown",
   "metadata": {},
   "source": [
    "应用：只要牵扯到时间计算就可以使用时间戳"
   ]
  },
  {
   "cell_type": "code",
   "execution_count": null,
   "metadata": {},
   "outputs": [],
   "source": [
    "t1=time.time()\n",
    "k=0\n",
    "for i in range(1000000):\n",
    "    k+=i\n",
    "time.sleep(5)#程序暂停5秒再继续运行\n",
    "t2=time.time()\n",
    "t=t2-t1\n",
    "print('程序运行时间',t,'s，期间人为使程序暂停了 5 s')"
   ]
  },
  {
   "cell_type": "markdown",
   "metadata": {},
   "source": [
    "### struct_time时间元组\n",
    "包含九个元素组，tm_year,tm_mon,tm_mday..."
   ]
  },
  {
   "cell_type": "markdown",
   "metadata": {},
   "source": [
    "#### 将时间戳转换为struct_time\n",
    "time.localtime([secs])"
   ]
  },
  {
   "cell_type": "code",
   "execution_count": null,
   "metadata": {},
   "outputs": [],
   "source": [
    "t_tup=time.localtime(time.time())\n",
    "t_tup"
   ]
  },
  {
   "cell_type": "markdown",
   "metadata": {},
   "source": [
    "#### 将时间元组转换为时间戳\n",
    "time.mktime(tupletime)"
   ]
  },
  {
   "cell_type": "code",
   "execution_count": null,
   "metadata": {},
   "outputs": [],
   "source": [
    "time.mktime(t_tup)"
   ]
  },
  {
   "cell_type": "markdown",
   "metadata": {},
   "source": [
    "### format_time格式化时间\n",
    "使时间戳转换为可读性更高的格式，包括自定义格式和固定格式"
   ]
  },
  {
   "cell_type": "markdown",
   "metadata": {},
   "source": [
    "#### 将struct_time转换为format_time\n",
    "time.strftime(fmt[,tupletime])"
   ]
  },
  {
   "cell_type": "code",
   "execution_count": null,
   "metadata": {},
   "outputs": [],
   "source": [
    "t_f=time.strftime('%Y-%m-%d %X',t_tup)\n",
    "t_f"
   ]
  },
  {
   "cell_type": "code",
   "execution_count": null,
   "metadata": {},
   "outputs": [],
   "source": [
    "time.asctime(t_tup)"
   ]
  },
  {
   "cell_type": "markdown",
   "metadata": {},
   "source": [
    "#### 根据格式将一个时间字符串解析为时间元组\n",
    "time.strptime(str,fmt='%a %b %d %H:%M:%S %Y')"
   ]
  },
  {
   "cell_type": "code",
   "execution_count": null,
   "metadata": {},
   "outputs": [],
   "source": [
    "time.strptime(t_f,'%Y-%m-%d %X')"
   ]
  },
  {
   "cell_type": "markdown",
   "metadata": {},
   "source": [
    "## Python的datetime模块\n",
    "重新封装了time类"
   ]
  },
  {
   "cell_type": "code",
   "execution_count": null,
   "metadata": {},
   "outputs": [],
   "source": [
    "from datetime import date,datetime,timedelta"
   ]
  },
  {
   "cell_type": "markdown",
   "metadata": {},
   "source": [
    "### date类\n",
    "date.today()返回一个当前本地日期的date对象\n",
    "\n",
    "date.fromtimestamp(timestamp)根据给定时间戳返回一个date对象\n",
    "\n",
    "d=date(year,month,day)一个date对象\n",
    "\n",
    "d.year,d.month,d.day\n",
    "\n",
    "d.replace(y,m,d)生成一个新date对象\n",
    "\n",
    "d.timetuple()返回时间元组\n",
    "\n",
    "d.weekday()返回星期\n",
    "\n",
    "d.isoweekday()星期几就返回几\n",
    "\n",
    "d.isoformat()返回字符串\n",
    "\n",
    "d.strftime(fmt)和time中的format相同"
   ]
  },
  {
   "cell_type": "code",
   "execution_count": null,
   "metadata": {},
   "outputs": [],
   "source": [
    "date.today()"
   ]
  },
  {
   "cell_type": "code",
   "execution_count": null,
   "metadata": {},
   "outputs": [],
   "source": [
    "date.fromtimestamp(time.time())"
   ]
  },
  {
   "cell_type": "markdown",
   "metadata": {},
   "source": [
    "### datetime类\n",
    "相当于date和time结合起来\n",
    "\n",
    "dt.today()\n",
    "\n",
    "dt.now([timezone])无参数返回datetime对象，有参数返回时间\n",
    "\n",
    "dt.fromtimestamp(timestamp[,timezone])\n",
    "\n",
    "dt.strptime(date_str,fmt)将字符串时间转换为datetime对象"
   ]
  },
  {
   "cell_type": "markdown",
   "metadata": {},
   "source": [
    "### timedelta类\n",
    "可以方便地在天、小时、分钟上做运算，月份则需要另外的办法"
   ]
  },
  {
   "cell_type": "code",
   "execution_count": null,
   "metadata": {},
   "outputs": [],
   "source": [
    "d=datetime.now()\n",
    "d"
   ]
  },
  {
   "cell_type": "code",
   "execution_count": null,
   "metadata": {},
   "outputs": [],
   "source": [
    "d0=d+timedelta(days=1)\n",
    "d0"
   ]
  },
  {
   "cell_type": "code",
   "execution_count": null,
   "metadata": {},
   "outputs": [],
   "source": [
    "s=d0-d#datetime自己的运算\n",
    "s.days"
   ]
  },
  {
   "cell_type": "code",
   "execution_count": null,
   "metadata": {},
   "outputs": [],
   "source": [
    "s.total_seconds()"
   ]
  },
  {
   "cell_type": "markdown",
   "metadata": {},
   "source": [
    "## seaborn\n",
    "提供一些数据包，真实有效。可做练习。"
   ]
  },
  {
   "cell_type": "code",
   "execution_count": null,
   "metadata": {},
   "outputs": [],
   "source": [
    "import seaborn as sns"
   ]
  },
  {
   "cell_type": "code",
   "execution_count": null,
   "metadata": {},
   "outputs": [],
   "source": [
    "dsns.load_dataset('tips')\n"
   ]
  },
  {
   "cell_type": "code",
   "execution_count": null,
   "metadata": {},
   "outputs": [],
   "source": []
  }
 ],
 "metadata": {
  "kernelspec": {
   "display_name": "Python 3",
   "language": "python",
   "name": "python3"
  },
  "language_info": {
   "codemirror_mode": {
    "name": "ipython",
    "version": 3
   },
   "file_extension": ".py",
   "mimetype": "text/x-python",
   "name": "python",
   "nbconvert_exporter": "python",
   "pygments_lexer": "ipython3",
   "version": "3.10.4"
  },
  "toc": {
   "base_numbering": 1,
   "nav_menu": {
    "height": "358px",
    "width": "265px"
   },
   "number_sections": true,
   "sideBar": true,
   "skip_h1_title": false,
   "title_cell": "Table of Contents",
   "title_sidebar": "Contents",
   "toc_cell": false,
   "toc_position": {
    "height": "calc(100% - 180px)",
    "left": "10px",
    "top": "150px",
    "width": "180px"
   },
   "toc_section_display": true,
   "toc_window_display": true
  },
  "varInspector": {
   "cols": {
    "lenName": 16,
    "lenType": 16,
    "lenVar": 40
   },
   "kernels_config": {
    "python": {
     "delete_cmd_postfix": "",
     "delete_cmd_prefix": "del ",
     "library": "var_list.py",
     "varRefreshCmd": "print(var_dic_list())"
    },
    "r": {
     "delete_cmd_postfix": ") ",
     "delete_cmd_prefix": "rm(",
     "library": "var_list.r",
     "varRefreshCmd": "cat(var_dic_list()) "
    }
   },
   "position": {
    "height": "474.85px",
    "left": "265.2px",
    "right": "20px",
    "top": "120px",
    "width": "350px"
   },
   "types_to_exclude": [
    "module",
    "function",
    "builtin_function_or_method",
    "instance",
    "_Feature"
   ],
   "window_display": false
  }
 },
 "nbformat": 4,
 "nbformat_minor": 2
}
